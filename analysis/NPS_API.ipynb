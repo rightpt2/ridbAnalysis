{
 "cells": [
  {
   "cell_type": "code",
   "execution_count": 139,
   "metadata": {},
   "outputs": [],
   "source": [
    "import requests\n",
    "import json\n",
    "import os\n",
    "import pandas as pd\n",
    "import numpy as np\n",
    "import math\n",
    "import time\n",
    "from pprint import pprint"
   ]
  },
  {
   "cell_type": "markdown",
   "metadata": {},
   "source": [
    "<h3>Start by getting your RIDB developer key and storing it as an enviroment variable</h3>"
   ]
  },
  {
   "cell_type": "code",
   "execution_count": 19,
   "metadata": {},
   "outputs": [],
   "source": [
    "# first lets connect to the campsites to find all facilities where a person can camp\n",
    "ridbendpoint = \"https://ridb.recreation.gov/api/v1/campsites\"\n",
    "ridbkey = os.environ.get('RIDBKEY')\n",
    "os.environ.get('RIDBKEY')\n",
    "\n",
    "# now lets set up the specific parameters for the request\n",
    "ridbparams = {'limit':50,'offset':0,'apikey': ridbkey}\n",
    "\n",
    "# and make then load the request\n",
    "response = requests.get(ridbendpoint, params=ridbparams)\n",
    "campsites = json.loads(response.content)"
   ]
  },
  {
   "cell_type": "markdown",
   "metadata": {},
   "source": [
    "### Then lets explore the data that comes back"
   ]
  },
  {
   "cell_type": "code",
   "execution_count": 25,
   "metadata": {},
   "outputs": [
    {
     "name": "stdout",
     "output_type": "stream",
     "text": [
      "dict_keys(['RECDATA', 'METADATA']) \n",
      "\n",
      "--- Metadata ---\n",
      "{'RESULTS': {'CURRENT_COUNT': 50, 'TOTAL_COUNT': 101941},\n",
      " 'SEARCH_PARAMETERS': {'LIMIT': 50, 'OFFSET': 0, 'QUERY': ''}}\n",
      "\n",
      "we will need roughly 2040 loops to pull all the data\n",
      "{'ATTRIBUTES': [{'AttributeName': 'BEACH ACCESS',\n",
      "                 'AttributeValue': 'Beach Access'},\n",
      "                {'AttributeName': 'CAMPFIRE RINGS',\n",
      "                 'AttributeValue': 'Campfire Rings'},\n",
      "                {'AttributeName': 'Picnic Table',\n",
      "                 'AttributeValue': 'Picnic Table'},\n",
      "                {'AttributeName': 'Checkout Time',\n",
      "                 'AttributeValue': '02:00 PM'},\n",
      "                {'AttributeName': 'Condition Rating',\n",
      "                 'AttributeValue': 'Standard'},\n",
      "                {'AttributeName': 'Min Num of People', 'AttributeValue': '1'},\n",
      "                {'AttributeName': 'Proximity to Water',\n",
      "                 'AttributeValue': 'Lakefront'},\n",
      "                {'AttributeName': 'Site Access', 'AttributeValue': 'Boat In'},\n",
      "                {'AttributeName': 'Campfire Allowed', 'AttributeValue': 'Yes'},\n",
      "                {'AttributeName': 'Checkin Time', 'AttributeValue': '02:00 PM'},\n",
      "                {'AttributeName': 'Max Num of People', 'AttributeValue': '10'},\n",
      "                {'AttributeName': 'Pets Allowed', 'AttributeValue': 'Yes'},\n",
      "                {'AttributeName': 'Site Rating', 'AttributeValue': 'Prime'},\n",
      "                {'AttributeName': 'Capacity/Size Rating',\n",
      "                 'AttributeValue': 'Single'},\n",
      "                {'AttributeName': 'Location Rating', 'AttributeValue': 'Prime'},\n",
      "                {'AttributeName': 'IS EQUIPMENT MANDATORY',\n",
      "                 'AttributeValue': 'true'}],\n",
      " 'CampsiteAccessible': False,\n",
      " 'CampsiteID': '10039014',\n",
      " 'CampsiteLatitude': 0,\n",
      " 'CampsiteLongitude': 0,\n",
      " 'CampsiteName': '19',\n",
      " 'CampsiteType': 'BOAT IN',\n",
      " 'CreatedDate': '2019-12-19',\n",
      " 'ENTITYMEDIA': [{'Credits': 'USDA Forest Service',\n",
      "                  'Description': 'Sunshine Boat-in Campsite #19',\n",
      "                  'EmbedCode': '',\n",
      "                  'EntityID': '10039014',\n",
      "                  'EntityMediaID': 'bd110079-154f-444a-bc1a-56bc3893c83c',\n",
      "                  'EntityType': 'Campsite',\n",
      "                  'Height': 525,\n",
      "                  'IsGallery': False,\n",
      "                  'IsPreview': True,\n",
      "                  'IsPrimary': False,\n",
      "                  'MediaType': 'Image',\n",
      "                  'Subtitle': '',\n",
      "                  'Title': 'Sunshine Site #19',\n",
      "                  'URL': 'https://cdn.recreation.gov/public/2020/01/28/15/03/10039014_e4d915ec-f477-4aa0-afc5-fa7ea950fcb0_700.jpg',\n",
      "                  'Width': 700},\n",
      "                 {'Credits': 'USDA Forest Service',\n",
      "                  'Description': 'Sunshine Boat-in Campsite #19 (Forest View)',\n",
      "                  'EmbedCode': '',\n",
      "                  'EntityID': '10039014',\n",
      "                  'EntityMediaID': 'ecde3a96-2b40-4379-81ff-240b28e1c2a5',\n",
      "                  'EntityType': 'Campsite',\n",
      "                  'Height': 810,\n",
      "                  'IsGallery': True,\n",
      "                  'IsPreview': False,\n",
      "                  'IsPrimary': False,\n",
      "                  'MediaType': 'Image',\n",
      "                  'Subtitle': '',\n",
      "                  'Title': 'Sunshine Site #19',\n",
      "                  'URL': 'https://cdn.recreation.gov/public/2020/01/28/15/05/10039014_64c26894-40fb-413a-9798-c14aa8b1638b_1440.jpg',\n",
      "                  'Width': 1440}],\n",
      " 'FacilityID': '233263',\n",
      " 'LastUpdatedDate': '2020-01-14',\n",
      " 'Loop': 'Sunshine',\n",
      " 'PERMITTEDEQUIPMENT': [{'EquipmentName': 'Boat', 'MaxLength': 30},\n",
      "                        {'EquipmentName': 'LARGE TENT OVER 9X12`',\n",
      "                         'MaxLength': 12},\n",
      "                        {'EquipmentName': 'SMALL TENT', 'MaxLength': 6},\n",
      "                        {'EquipmentName': 'Tent', 'MaxLength': 8}],\n",
      " 'TypeOfUse': 'Overnight'}\n"
     ]
    }
   ],
   "source": [
    "print(campsites.keys(),'\\n')\n",
    "\n",
    "\n",
    "# lets print out the meta data to see what we find\n",
    "print(\"--- Metadata ---\")\n",
    "pprint(campsites['METADATA'])\n",
    "\n",
    "# Great we see there are ~102K campsites\n",
    "print(\"\\nwe will need roughly {0:.0f} loops to pull all the data\".format(102000/50))\n",
    "\n",
    "# lets print out a first dict to see what we get for each campsite\n",
    "pprint(campsites['RECDATA'][0])"
   ]
  },
  {
   "cell_type": "code",
   "execution_count": 30,
   "metadata": {},
   "outputs": [
    {
     "name": "stdout",
     "output_type": "stream",
     "text": [
      "{'RESULTS': {'CURRENT_COUNT': 50, 'TOTAL_COUNT': 101941},\n",
      " 'SEARCH_PARAMETERS': {'LIMIT': 50, 'OFFSET': 0, 'QUERY': ''}}\n"
     ]
    }
   ],
   "source": [
    "pprint(campsites['METADATA'])"
   ]
  },
  {
   "cell_type": "code",
   "execution_count": 63,
   "metadata": {},
   "outputs": [],
   "source": [
    "# thats a lot of loops - lets quickly estimate how long it would take to pull this data\n",
    "\n",
    "\n",
    "# we created a timer and memory profile wrapper function awhile ago. Lets use the python decorator to execute this\n",
    "from timerfunc import profile\n",
    "\n",
    "@profile\n",
    "def test_campsite_api():\n",
    "    \n",
    "    output_lst = []\n",
    "    \n",
    "    #pdb.set_trace()\n",
    "    \n",
    "    for i in range(50):\n",
    "\n",
    "        # we can use the offset requests to loop through the api\n",
    "        ridbparams = {'limit':50,'offset': i*50,'apikey': ridbkey}\n",
    "\n",
    "        # and make then load the request\n",
    "        response = requests.get(ridbendpoint, params=ridbparams)\n",
    "        campsites = json.loads(response.content)\n",
    "\n",
    "        # lets see how many sites we got back\n",
    "        num_sites = int(campsites['METADATA']['RESULTS']['CURRENT_COUNT'])\n",
    "\n",
    "        # we will need to load a few things to some lists but lets just do a few quick ones\n",
    "        for l in range(num_sites):\n",
    "            output_lst.append([campsites['RECDATA'][l]['CampsiteID'], \n",
    "                               campsites['RECDATA'][l]['ATTRIBUTES'], \n",
    "                               campsites['RECDATA'][l]['FacilityID']\n",
    "                              ]\n",
    "                             )\n",
    "\n",
    "\n",
    "    return output_lst"
   ]
  },
  {
   "cell_type": "code",
   "execution_count": 64,
   "metadata": {},
   "outputs": [
    {
     "name": "stdout",
     "output_type": "stream",
     "text": [
      "Time   58.24\n",
      "Memory 20.86328125\n"
     ]
    }
   ],
   "source": [
    "test = test_campsite_api()"
   ]
  },
  {
   "cell_type": "markdown",
   "metadata": {},
   "source": [
    "so it takes rougly 1.2 seconds per API call. Given we need to do 2K of these that isnt a great answer. \n",
    "\n",
    "Lets play more on API website to see if they just have a large json or CSV with all of this data. \n",
    "\n",
    "Guess what they do, lets just pull in this data from the CSVs.\n",
    "\n",
    "also lets not totally ignore the previous work we have done, we can see that the RIDB campsite API has signifincaly more information than the high level overview in the csv"
   ]
  },
  {
   "cell_type": "code",
   "execution_count": 102,
   "metadata": {},
   "outputs": [
    {
     "data": {
      "text/plain": [
       "['../Data/RIDB_attributes/EntityActivities_API_v1.csv',\n",
       " '../Data/RIDB_attributes/PermitEntranceZones_API_v1.csv',\n",
       " '../Data/RIDB_attributes/Media_API_v1.csv',\n",
       " '../Data/RIDB_attributes/FacilityAddresses_API_v1.csv',\n",
       " '../Data/RIDB_attributes/Facilities_API_v1.csv',\n",
       " '../Data/RIDB_attributes/Activities_API_v1.csv',\n",
       " '../Data/RIDB_attributes/Organizations_API_v1.csv',\n",
       " '../Data/RIDB_attributes/PermitEntrances_API_v1.csv',\n",
       " '../Data/RIDB_attributes/OrgEntities_API_v1.csv',\n",
       " '../Data/RIDB_attributes/Tours_API_v1.csv',\n",
       " '../Data/RIDB_attributes/CampsiteAttributes_API_v1.csv',\n",
       " '../Data/RIDB_attributes/Events_API_v1.csv',\n",
       " '../Data/RIDB_attributes/RecAreaFacilities_API_v1.csv',\n",
       " '../Data/RIDB_attributes/PermitEntranceAttributes_API_v1.csv',\n",
       " '../Data/RIDB_attributes/Links_API_v1.csv',\n",
       " '../Data/RIDB_attributes/TourAttributes_API_v1.csv',\n",
       " '../Data/RIDB_attributes/Campsites_API_v1.csv',\n",
       " '../Data/RIDB_attributes/RecAreaAddresses_API_v1.csv',\n",
       " '../Data/RIDB_attributes/MemberTours_API_v1.csv',\n",
       " '../Data/RIDB_attributes/RecAreas_API_v1.csv',\n",
       " '../Data/RIDB_attributes/PermittedEquipment_API_v1.csv']"
      ]
     },
     "execution_count": 102,
     "metadata": {},
     "output_type": "execute_result"
    }
   ],
   "source": [
    "from glob import glob\n",
    "glob(\"../Data/RIDB_attributes/*\")"
   ]
  },
  {
   "cell_type": "code",
   "execution_count": 111,
   "metadata": {},
   "outputs": [
    {
     "data": {
      "text/plain": [
       "RecAreaAddressID          int64\n",
       "RecAreaID                 int64\n",
       "RecAreaAddressType       object\n",
       "RecAreaStreetAddress1    object\n",
       "RecAreaStreetAddress2    object\n",
       "RecAreaStreetAddress3    object\n",
       "City                     object\n",
       "PostalCode               object\n",
       "AddressStateCode         object\n",
       "AddressCountryCode       object\n",
       "LastUpdatedDate          object\n",
       "dtype: object"
      ]
     },
     "execution_count": 111,
     "metadata": {},
     "output_type": "execute_result"
    }
   ],
   "source": [
    "df_rec_address = pd.read_csv( '../Data/RIDB_attributes/RecAreaAddresses_API_v1.csv')\n",
    "df_rec_address.dtypes"
   ]
  },
  {
   "cell_type": "code",
   "execution_count": 112,
   "metadata": {},
   "outputs": [],
   "source": []
  },
  {
   "cell_type": "code",
   "execution_count": 187,
   "metadata": {},
   "outputs": [
    {
     "data": {
      "text/plain": [
       "['haleakalā', 'hawaiʻi volcanoes']"
      ]
     },
     "execution_count": 187,
     "metadata": {},
     "output_type": "execute_result"
    }
   ],
   "source": []
  },
  {
   "cell_type": "code",
   "execution_count": 210,
   "metadata": {},
   "outputs": [],
   "source": []
  },
  {
   "cell_type": "code",
   "execution_count": 237,
   "metadata": {},
   "outputs": [
    {
     "name": "stdout",
     "output_type": "stream",
     "text": [
      "67\n"
     ]
    },
    {
     "name": "stderr",
     "output_type": "stream",
     "text": [
      "/Users/bkeyes/opt/anaconda3/lib/python3.7/site-packages/ipykernel_launcher.py:4: SettingWithCopyWarning: \n",
      "A value is trying to be set on a copy of a slice from a DataFrame.\n",
      "Try using .loc[row_indexer,col_indexer] = value instead\n",
      "\n",
      "See the caveats in the documentation: http://pandas.pydata.org/pandas-docs/stable/user_guide/indexing.html#returning-a-view-versus-a-copy\n",
      "  after removing the cwd from sys.path.\n"
     ]
    }
   ],
   "source": [
    "# now we match the two lists of names together\n",
    "working = df_rec[df_rec['RecAreaName'].str.lower().str.contains('national park').fillna(False)]\n",
    "mtch = combine_lsts(working.RecAreaName.values, nps_names_lst)\n",
    "working['nps_name'] = working['RecAreaName'].map(mtch)\n",
    "\n",
    "print(working.shape[0])\n",
    "\n",
    "# awesome we only have 67 parks to go through. Lets save them to a csv and manually clean them up.\n",
    "working.to_csv(\"temp.csv\")\n",
    "\n"
   ]
  },
  {
   "cell_type": "code",
   "execution_count": 235,
   "metadata": {},
   "outputs": [],
   "source": [
    "# after some manual cleaning we will identify the ids of the rec areas we want to study\n",
    "np_rec_areas = pd.read_csv(\"../Data/OtherSource/manually_identified_recids_nationalparks.csv\", usecols=[0,1,2,3], nrows=61)"
   ]
  },
  {
   "cell_type": "code",
   "execution_count": 226,
   "metadata": {},
   "outputs": [],
   "source": [
    "# Great so now we have all our rec areas we will now have to look into the reservation data we have"
   ]
  },
  {
   "cell_type": "code",
   "execution_count": null,
   "metadata": {},
   "outputs": [],
   "source": []
  },
  {
   "cell_type": "code",
   "execution_count": null,
   "metadata": {},
   "outputs": [],
   "source": []
  }
 ],
 "metadata": {
  "kernelspec": {
   "display_name": "Python 3",
   "language": "python",
   "name": "python3"
  },
  "language_info": {
   "codemirror_mode": {
    "name": "ipython",
    "version": 3
   },
   "file_extension": ".py",
   "mimetype": "text/x-python",
   "name": "python",
   "nbconvert_exporter": "python",
   "pygments_lexer": "ipython3",
   "version": "3.7.4"
  }
 },
 "nbformat": 4,
 "nbformat_minor": 2
}
