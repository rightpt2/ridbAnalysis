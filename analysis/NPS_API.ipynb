{
 "cells": [
  {
   "cell_type": "code",
   "execution_count": null,
   "metadata": {},
   "outputs": [],
   "source": [
    "import urllib.request\n",
    "import json\n",
    "\n",
    "\n",
    "# Configure API request\n",
    "endpoint = \"https://developer.nps.gov/api/v1/parks?stateCode=me\"\n",
    "HEADERS = {\"Authorization\":\"INSERT_API_KEY_HERE\"}\n",
    "req = urllib.request.Request(endpoint,headers=HEADERS)\n",
    "# Additional code would follow"
   ]
  }
 ],
 "metadata": {
  "kernelspec": {
   "display_name": "Python 3",
   "language": "python",
   "name": "python3"
  },
  "language_info": {
   "codemirror_mode": {
    "name": "ipython",
    "version": 3
   },
   "file_extension": ".py",
   "mimetype": "text/x-python",
   "name": "python",
   "nbconvert_exporter": "python",
   "pygments_lexer": "ipython3",
   "version": "3.7.4"
  }
 },
 "nbformat": 4,
 "nbformat_minor": 2
}
