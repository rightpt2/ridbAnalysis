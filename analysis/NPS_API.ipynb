{
 "cells": [
  {
   "cell_type": "code",
   "execution_count": 41,
   "metadata": {},
   "outputs": [],
   "source": [
    "import requests\n",
    "import json\n",
    "import os\n",
    "import pandas as pd\n",
    "import math\n",
    "import time"
   ]
  },
  {
   "cell_type": "markdown",
   "metadata": {},
   "source": [
    "<h3>Start by getting your RIDB developer key and storing it as an enviroment variable</h3>"
   ]
  },
  {
   "cell_type": "code",
   "execution_count": 2,
   "metadata": {},
   "outputs": [
    {
     "name": "stdout",
     "output_type": "stream",
     "text": [
      "dcFeqNe0qikWKvdgW5WudJWX7XPrCdssLvWMj7gj\n"
     ]
    }
   ],
   "source": [
    "# lets check to make sure your RIDB Key was stored in as an enviroment variable\n",
    "key = os.environ.get('RIDBKEY')\n",
    "print(key)\n"
   ]
  },
  {
   "cell_type": "code",
   "execution_count": 3,
   "metadata": {},
   "outputs": [],
   "source": [
    "# Configure API request\n",
    "\n",
    "endpoint = \"https://developer.nps.gov/api/v1/campgrounds\"\n",
    "\n",
    "params = {'api_key': key}\n",
    "\n",
    "response = requests.get(endpoint, params=params)"
   ]
  },
  {
   "cell_type": "code",
   "execution_count": 4,
   "metadata": {},
   "outputs": [
    {
     "data": {
      "text/plain": [
       "'https://developer.nps.gov/api/v1/campgrounds?api_key=dcFeqNe0qikWKvdgW5WudJWX7XPrCdssLvWMj7gj'"
      ]
     },
     "execution_count": 4,
     "metadata": {},
     "output_type": "execute_result"
    }
   ],
   "source": [
    "response.request.url"
   ]
  },
  {
   "cell_type": "code",
   "execution_count": 5,
   "metadata": {},
   "outputs": [
    {
     "data": {
      "text/plain": [
       "<Response [200]>"
      ]
     },
     "execution_count": 5,
     "metadata": {},
     "output_type": "execute_result"
    }
   ],
   "source": [
    "response"
   ]
  },
  {
   "cell_type": "code",
   "execution_count": null,
   "metadata": {},
   "outputs": [],
   "source": [
    "txt = json.loads(response.content)\n"
   ]
  },
  {
   "cell_type": "code",
   "execution_count": null,
   "metadata": {},
   "outputs": [],
   "source": [
    "txt"
   ]
  },
  {
   "cell_type": "code",
   "execution_count": 50,
   "metadata": {},
   "outputs": [],
   "source": [
    "ridbendpoint = \"https://ridb.recreation.gov/api/v1/facilities\"\n",
    "ridbkey = '9404d711-544a-48e4-8e75-2b8c04d4b4eb'\n",
    "\n",
    "\n",
    "ridbparams = {'limit':50,'offset':0,'apikey': ridbkey}\n",
    "\n",
    "response = requests.get(ridbendpoint, params=ridbparams)"
   ]
  },
  {
   "cell_type": "code",
   "execution_count": 45,
   "metadata": {},
   "outputs": [
    {
     "name": "stdout",
     "output_type": "stream",
     "text": [
      "https://ridb.recreation.gov/api/v1/facilities?limit=50&offset=1&apikey=9404d711-544a-48e4-8e75-2b8c04d4b4eb 200\n"
     ]
    }
   ],
   "source": [
    "print(response.request.url, response.status_code)"
   ]
  },
  {
   "cell_type": "code",
   "execution_count": 46,
   "metadata": {},
   "outputs": [
    {
     "data": {
      "text/plain": [
       "dict_keys(['RECDATA', 'METADATA'])"
      ]
     },
     "execution_count": 46,
     "metadata": {},
     "output_type": "execute_result"
    }
   ],
   "source": [
    "facilities2 = json.loads(response.content)\n",
    "facilities2.keys()"
   ]
  },
  {
   "cell_type": "code",
   "execution_count": 27,
   "metadata": {},
   "outputs": [
    {
     "data": {
      "text/plain": [
       "{'RESULTS': {'CURRENT_COUNT': 50, 'TOTAL_COUNT': 14022},\n",
       " 'SEARCH_PARAMETERS': {'QUERY': '', 'LIMIT': 50, 'OFFSET': 0}}"
      ]
     },
     "execution_count": 27,
     "metadata": {},
     "output_type": "execute_result"
    }
   ],
   "source": [
    "facilities['METADATA']"
   ]
  },
  {
   "cell_type": "code",
   "execution_count": 36,
   "metadata": {},
   "outputs": [
    {
     "data": {
      "text/plain": [
       "281"
      ]
     },
     "execution_count": 36,
     "metadata": {},
     "output_type": "execute_result"
    }
   ],
   "source": [
    "math.ceil(14022 / 50)"
   ]
  },
  {
   "cell_type": "code",
   "execution_count": 48,
   "metadata": {},
   "outputs": [
    {
     "data": {
      "text/plain": [
       "{'FacilityID': '249458',\n",
       " 'LegacyFacilityID': '',\n",
       " 'OrgFacilityID': '28970',\n",
       " 'ParentOrgID': '131',\n",
       " 'ParentRecAreaID': '2018',\n",
       " 'FacilityName': 'Columbine Picnic Site',\n",
       " 'FacilityDescription': '<p>This is a picnic ground\\xa0and rest area along US Highway 160. No Bathrooms.</p>',\n",
       " 'FacilityTypeDescription': 'Facility',\n",
       " 'FacilityUseFeeDescription': '',\n",
       " 'FacilityDirections': 'From the city of South Fork travel West on US Hwy 160 for 10 miles.  The Columbine Rest Area and interp site are on the right (north) side of the highway.',\n",
       " 'FacilityPhone': '',\n",
       " 'FacilityEmail': '',\n",
       " 'FacilityReservationURL': '',\n",
       " 'FacilityMapURL': '',\n",
       " 'FacilityAdaAccess': '',\n",
       " 'GEOJSON': {'TYPE': 'Point', 'COORDINATES': [-106.7572802, 37.57209691]},\n",
       " 'FacilityLongitude': -106.7572802,\n",
       " 'FacilityLatitude': 37.57209691,\n",
       " 'Keywords': '',\n",
       " 'StayLimit': '',\n",
       " 'Reservable': False,\n",
       " 'Enabled': True,\n",
       " 'LastUpdatedDate': '2020-04-10'}"
      ]
     },
     "execution_count": 48,
     "metadata": {},
     "output_type": "execute_result"
    }
   ],
   "source": [
    "facilities['RECDATA'][1]"
   ]
  },
  {
   "cell_type": "code",
   "execution_count": 49,
   "metadata": {},
   "outputs": [
    {
     "data": {
      "text/plain": [
       "{'FacilityID': '249458',\n",
       " 'LegacyFacilityID': '',\n",
       " 'OrgFacilityID': '28970',\n",
       " 'ParentOrgID': '131',\n",
       " 'ParentRecAreaID': '2018',\n",
       " 'FacilityName': 'Columbine Picnic Site',\n",
       " 'FacilityDescription': '<p>This is a picnic ground\\xa0and rest area along US Highway 160. No Bathrooms.</p>',\n",
       " 'FacilityTypeDescription': 'Facility',\n",
       " 'FacilityUseFeeDescription': '',\n",
       " 'FacilityDirections': 'From the city of South Fork travel West on US Hwy 160 for 10 miles.  The Columbine Rest Area and interp site are on the right (north) side of the highway.',\n",
       " 'FacilityPhone': '',\n",
       " 'FacilityEmail': '',\n",
       " 'FacilityReservationURL': '',\n",
       " 'FacilityMapURL': '',\n",
       " 'FacilityAdaAccess': '',\n",
       " 'GEOJSON': {'TYPE': 'Point', 'COORDINATES': [-106.7572802, 37.57209691]},\n",
       " 'FacilityLongitude': -106.7572802,\n",
       " 'FacilityLatitude': 37.57209691,\n",
       " 'Keywords': '',\n",
       " 'StayLimit': '',\n",
       " 'Reservable': False,\n",
       " 'Enabled': True,\n",
       " 'LastUpdatedDate': '2020-04-10'}"
      ]
     },
     "execution_count": 49,
     "metadata": {},
     "output_type": "execute_result"
    }
   ],
   "source": [
    "facilities2['RECDATA'][0]"
   ]
  },
  {
   "cell_type": "code",
   "execution_count": null,
   "metadata": {},
   "outputs": [],
   "source": []
  }
 ],
 "metadata": {
  "kernelspec": {
   "display_name": "Python 3",
   "language": "python",
   "name": "python3"
  },
  "language_info": {
   "codemirror_mode": {
    "name": "ipython",
    "version": 3
   },
   "file_extension": ".py",
   "mimetype": "text/x-python",
   "name": "python",
   "nbconvert_exporter": "python",
   "pygments_lexer": "ipython3",
   "version": "3.7.4"
  }
 },
 "nbformat": 4,
 "nbformat_minor": 2
}
