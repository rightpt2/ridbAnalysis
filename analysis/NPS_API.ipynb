{
 "cells": [
  {
   "cell_type": "code",
   "execution_count": 1,
   "metadata": {},
   "outputs": [],
   "source": [
    "import requests\n",
    "import json\n",
    "import os\n",
    "import pandas as pd\n",
    "import math\n",
    "import time"
   ]
  },
  {
   "cell_type": "markdown",
   "metadata": {},
   "source": [
    "<h3>Start by getting your RIDB developer key and storing it as an enviroment variable</h3>"
   ]
  },
  {
   "cell_type": "code",
   "execution_count": 8,
   "metadata": {},
   "outputs": [
    {
     "name": "stdout",
     "output_type": "stream",
     "text": [
      "dcFeqNe0qikWKvdgW5WudJWX7XPrCdssLvWMj7gj\n"
     ]
    }
   ],
   "source": [
    "# lets check to make sure your RIDB Key was stored in as an enviroment variable\n",
    "npskey = os.environ.get('NPSKEY')\n",
    "print(npskey)\n"
   ]
  },
  {
   "cell_type": "code",
   "execution_count": 22,
   "metadata": {},
   "outputs": [],
   "source": [
    "# Configure API request\n",
    "endpoint = \"https://developer.nps.gov/api/v1/parks\"\n",
    "params = {'api_key': npskey, 'start':0}\n",
    "response = requests.get(endpoint, params=params)"
   ]
  },
  {
   "cell_type": "code",
   "execution_count": 23,
   "metadata": {},
   "outputs": [
    {
     "name": "stdout",
     "output_type": "stream",
     "text": [
      "200\n"
     ]
    }
   ],
   "source": [
    "# we can print the url to see if this is working\n",
    "response.url\n",
    "\n",
    "# and the response code - 200 means there was a good response\n",
    "print(response.status_code)\n",
    "\n",
    "# next we will use the load s - string function from the json library\n",
    "park_json = json.loads(response.content)"
   ]
  },
  {
   "cell_type": "code",
   "execution_count": 27,
   "metadata": {},
   "outputs": [
    {
     "name": "stdout",
     "output_type": "stream",
     "text": [
      "dict_keys(['total', 'data', 'limit', 'start'])\n"
     ]
    },
    {
     "data": {
      "text/plain": [
       "'497'"
      ]
     },
     "execution_count": 27,
     "metadata": {},
     "output_type": "execute_result"
    }
   ],
   "source": [
    "# I wonder what keys are in this dict\n",
    "print(park_json.keys())\n",
    "\n",
    "park_json['total']"
   ]
  },
  {
   "cell_type": "code",
   "execution_count": 33,
   "metadata": {},
   "outputs": [
    {
     "name": "stdout",
     "output_type": "stream",
     "text": [
      "we will need 10 loops to complete the notes\n"
     ]
    }
   ],
   "source": [
    "# How many loops will we need\n",
    "print(\"we will need {0} loops to get all of the data\".format(math.ceil(int(park_json['total'])/50)))"
   ]
  },
  {
   "cell_type": "code",
   "execution_count": 68,
   "metadata": {},
   "outputs": [
    {
     "name": "stdout",
     "output_type": "stream",
     "text": [
      "the data is a <class 'list'>\n",
      "the data is a <class 'dict'>\n",
      "['contacts', 'states', 'longitude', 'activities', 'entranceFees', 'directionsInfo', 'entrancePasses', 'directionsUrl', 'url', 'weatherInfo', 'name', 'operatingHours', 'topics', 'latLong', 'description', 'images', 'designation', 'parkCode', 'addresses', 'id', 'fullName', 'latitude']\n"
     ]
    },
    {
     "data": {
      "text/plain": [
       "'FL'"
      ]
     },
     "execution_count": 68,
     "metadata": {},
     "output_type": "execute_result"
    }
   ],
   "source": [
    "# lets explore the data and see wha twe will ned to extract\n",
    "print(\"the data is a \"+ str(type(park_json['data'])))\n",
    "\n",
    "# that is fille will dictionaries\n",
    "print(\"the data is a \"+ str(type(park_json['data'][0])))\n",
    "\n",
    "# Lets see the dictionaries\n",
    "print(list(park_json['data'][0].keys()))\n"
   ]
  },
  {
   "cell_type": "code",
   "execution_count": 85,
   "metadata": {},
   "outputs": [
    {
     "name": "stdout",
     "output_type": "stream",
     "text": [
      "0\n",
      "1\n",
      "2\n",
      "3\n",
      "4\n",
      "5\n",
      "6\n",
      "7\n",
      "8\n",
      "9\n"
     ]
    }
   ],
   "source": [
    "# Lets create a simple looping function to pull data\n",
    "\n",
    "\n",
    "\n",
    "\n",
    "def loop_parks(endpoint, loops=10):\n",
    "    \n",
    "    \"\"\"this will be a formula to loop through a dictionary and get some data\"\"\"\n",
    "\n",
    "    # set of lists\n",
    "\n",
    "    ret_lst = []\n",
    "    \n",
    "    for i in range(loops):\n",
    "        \n",
    "        print(i)\n",
    "        \n",
    "        params = {'api_key': npskey, 'start':i*50}    \n",
    "        response = requests.get(endpoint, params=params)\n",
    "        park_json = json.loads(response.content)\n",
    "        \n",
    "        records_len = len(park_json['data'])\n",
    "            \n",
    "        for record in range(records_len): \n",
    "\n",
    "            row = [\n",
    "            park_json['data'][record]['fullName'],\n",
    "            park_json['data'][record]['name'],\n",
    "            park_json['data'][record]['id'],\n",
    "            park_json['data'][record]['parkCode'],\n",
    "            park_json['data'][record]['latitude'],\n",
    "            park_json['data'][record]['longitude'],\n",
    "            park_json['data'][record]['url'],\n",
    "            park_json['data'][record]['states'],\n",
    "            park_json['data'][record]['weatherInfo'],\n",
    "            ]\n",
    "            \n",
    "            ret_lst.append(row)\n",
    "            \n",
    "    return ret_lst\n",
    "\n",
    "parks = loop_parks(endpoint=\"https://developer.nps.gov/api/v1/parks\", loops=10)"
   ]
  },
  {
   "cell_type": "code",
   "execution_count": 88,
   "metadata": {},
   "outputs": [
    {
     "data": {
      "text/plain": [
       "(498, 9)"
      ]
     },
     "execution_count": 88,
     "metadata": {},
     "output_type": "execute_result"
    }
   ],
   "source": [
    "df_parks = pd.DataFrame(parks, columns = ['fullname', 'name', 'park_id', 'park_code', \n",
    "                                'latitude', 'longitude', 'url', 'states', 'weather'])\n",
    "\n",
    "df_parks.shape"
   ]
  },
  {
   "cell_type": "code",
   "execution_count": 91,
   "metadata": {},
   "outputs": [
    {
     "data": {
      "text/plain": [
       "dict_keys(['total', 'data', 'limit', 'start'])"
      ]
     },
     "execution_count": 91,
     "metadata": {},
     "output_type": "execute_result"
    }
   ],
   "source": [
    "endpoint = \"https://developer.nps.gov/api/v1/campgrounds\"\n",
    "params = {'api_key': npskey, 'start':0}\n",
    "response = requests.get(endpoint, params=params)\n",
    "campground_json = json.loads(response.content)\n",
    "campground_json.keys()"
   ]
  },
  {
   "cell_type": "code",
   "execution_count": 93,
   "metadata": {},
   "outputs": [
    {
     "data": {
      "text/plain": [
       "dict_keys(['contacts', 'reservationUrl', 'regulationsurl', 'numberOfSitesReservable', 'campsites', 'longitude', 'numberOfSitesFirstComeFirstServe', 'directionsUrl', 'fees', 'regulationsOverview', 'operatingHours', 'description', 'images', 'parkCode', 'amenities', 'id', 'weatheroverview', 'audioDescription', 'reservationInfo', 'accessibility', 'directionsoverview', 'name', 'latLong', 'addresses', 'latitude'])"
      ]
     },
     "execution_count": 93,
     "metadata": {},
     "output_type": "execute_result"
    }
   ],
   "source": [
    "campground_json['data'][0].keys()"
   ]
  },
  {
   "cell_type": "code",
   "execution_count": 98,
   "metadata": {},
   "outputs": [
    {
     "data": {
      "text/plain": [
       "{'contacts': {'phoneNumbers': [{'phoneNumber': '435-719-2299',\n",
       "    'description': '',\n",
       "    'extension': '',\n",
       "    'type': 'Voice'}],\n",
       "  'emailAddresses': [{'description': '', 'emailAddress': 'archinfo@nps.gov'}]},\n",
       " 'reservationUrl': 'http://www.recreation.gov/camping/devils-garden-campground/r/campgroundDetails.do?contractCode=NRSO&parkId=74066',\n",
       " 'regulationsurl': '',\n",
       " 'numberOfSitesReservable': '51',\n",
       " 'campsites': {'other': '0',\n",
       "  'group': '2',\n",
       "  'horse': '0',\n",
       "  'totalsites': '51',\n",
       "  'tentonly': '0',\n",
       "  'electricalhookups': '0',\n",
       "  'rvonly': '0',\n",
       "  'walkboatto': '0'},\n",
       " 'longitude': '-109.5887991',\n",
       " 'numberOfSitesFirstComeFirstServe': '0',\n",
       " 'directionsUrl': '',\n",
       " 'fees': [{'cost': '25.0000',\n",
       "   'description': 'Fee per night at an individual Devils Garden Site. Group size is limited to 10 people and 2 vehicles.',\n",
       "   'title': 'Standard Individual Site'},\n",
       "  {'cost': '75.0000',\n",
       "   'description': 'Nightly fee at Canyon Wren Group Site for a group of 11-16 people.',\n",
       "   'title': 'Canyon Wren Group Site 11-16 Campers'},\n",
       "  {'cost': '100.0000',\n",
       "   'description': 'Nightly fee at Canyon Wren Group Site for a group of 17-22 people.',\n",
       "   'title': 'Canyon Wren Group Site 17-22 Campers'},\n",
       "  {'cost': '125.0000',\n",
       "   'description': 'Nightly fee at Canyon Wren Group Site for a group of 23-28 people.',\n",
       "   'title': 'Canyon Wren Group Site 23-28 Campers'},\n",
       "  {'cost': '160.0000',\n",
       "   'description': 'Nightly fee at Canyon Wren Group Site for a group of 29-35 people.',\n",
       "   'title': 'Canyon Wren Group Site 29-35 Campers'},\n",
       "  {'cost': '100.0000',\n",
       "   'description': 'Nightly fee at Juniper Group Site for a group of 11-22 people.',\n",
       "   'title': 'Juniper Group Site 11-22 Campers'},\n",
       "  {'cost': '150.0000',\n",
       "   'description': 'Nightly fee at Juniper Group Site for a group of 23-33 people.',\n",
       "   'title': 'Juniper Group Site 23-33 Campers'},\n",
       "  {'cost': '200.0000',\n",
       "   'description': 'Nightly fee at Juniper Group Site for a group of 34-44 people.',\n",
       "   'title': 'Juniper Group Site 34-44 Campers'},\n",
       "  {'cost': '250.0000',\n",
       "   'description': 'Nightly fee at Juniper Group Site for a group of 45-55 people.',\n",
       "   'title': 'Juniper Group Site 45-55 Campers'}],\n",
       " 'regulationsOverview': 'Camp only in designated sites. Parking areas may not be used for overnight camping. \\n\\nLeashed pets are allowed in campsites and on the road only. Please clean up after your pet. \\n\\nGenerator use limited to: 8-10 am and 4-8 pm. \\n\\nCampground quiet hours: 10 pm to 8 am.\\n\\nCheck out time: 10 am.\\n\\nKeep all vehicles, including bicycles, on paved or graveled areas of the campsite. Parked vehicles may not extend into the roadway.\\n\\nFires are allowed only in the fire pits and grills. In winter, you can purchase firewood at the visitor center. Burning collected wood is prohibited.\\n\\nEach site has a 10-person limit and may be used by only one group. Asking campers to share their site is prohibited.\\n\\nCampsites may not be left unattended for more than 24 hours. No person may occupy the campground for more than 7 nights in any 30-day period or 14 nights per year.\\n\\nStore your food, cookware, trash, and toiletries inside vehicles or in a latched, hard-sided container. Do not leave them outside unattended.',\n",
       " 'operatingHours': [{'exceptions': [{'exceptionHours': {'wednesday': 'Closed',\n",
       "      'monday': 'Closed',\n",
       "      'thursday': 'Closed',\n",
       "      'sunday': 'Closed',\n",
       "      'tuesday': 'Closed',\n",
       "      'friday': 'Closed',\n",
       "      'saturday': 'Closed'},\n",
       "     'startDate': '2020-03-18',\n",
       "     'name': 'Spring 2020 Closure',\n",
       "     'endDate': '2020-06-15'}],\n",
       "   'description': 'Devils Garden Campground is open year-round.',\n",
       "   'standardHours': {'wednesday': 'All Day',\n",
       "    'monday': 'All Day',\n",
       "    'thursday': 'All Day',\n",
       "    'sunday': 'All Day',\n",
       "    'tuesday': 'All Day',\n",
       "    'friday': 'All Day',\n",
       "    'saturday': 'All Day'},\n",
       "   'name': 'Devils Garden Campground'}],\n",
       " 'description': 'Camp among slickrock outrcoppings at Devils Garden Campground, 18 miles from the park entrance. \\n\\nYou can reserve standard campsites up to 6 months in advance for stays March 1-October 31. All sites are usually reserved months in advance. Between November 1 and February 28, sites are first-come, first-served. Facilities include drinking water, picnic tables, grills, and both pit-style and flush toilets.',\n",
       " 'images': [{'credit': 'NPS/Chris Wonderly',\n",
       "   'altText': 'A campsite parking area with rock outcrop above it',\n",
       "   'title': 'Devils Garden Campground',\n",
       "   'caption': 'Devils Garden Campground has 50 sites that are reservable in summer.',\n",
       "   'url': 'https://www.nps.gov/common/uploads/structured_data/6F99DA80-1DD8-B71B-0BC8CE6CD2DD1F81.jpg'},\n",
       "  {'credit': 'NPS/Neal Herbert',\n",
       "   'altText': 'a paved campsite with a large blue accessible image painted on the ground',\n",
       "   'title': 'Devils Garden Accessible Site',\n",
       "   'caption': 'Devils Garden campground has one accessible site. It is available for reservation',\n",
       "   'url': 'https://www.nps.gov/common/uploads/structured_data/6FAE7CC8-1DD8-B71B-0BDDC7DB68DEE17B.jpg'},\n",
       "  {'credit': 'NPS/Chris Wonderly',\n",
       "   'altText': 'an amphitheater with benches and a screen',\n",
       "   'title': 'Devils Garden Amphitheater',\n",
       "   'caption': 'Ranger programs may be offered occasionally at the Devils Garden amphitheater. Check at the visitor center for information.',\n",
       "   'url': 'https://www.nps.gov/common/uploads/structured_data/70229372-1DD8-B71B-0B63E3BD7F287EEC.jpg'},\n",
       "  {'credit': 'NPS / Chris Wonderly',\n",
       "   'altText': 'several benches sit in a semi circle with a broad, stone arch in the background',\n",
       "   'title': 'Amphitheater and Skyline Arch',\n",
       "   'caption': 'The campground amphitheater sits in the shadow of Skyline Arch',\n",
       "   'url': 'https://www.nps.gov/common/uploads/structured_data/07B7F50E-1DD8-B71B-0BD272F2DF3A1130.jpg'},\n",
       "  {'credit': 'NPS / Chris Wonderly',\n",
       "   'altText': \"A small, brown building with men's and women's restroom signs and an outdoor sink\",\n",
       "   'title': 'Toilets',\n",
       "   'caption': 'The campground has flush toilets and running water.',\n",
       "   'url': 'https://www.nps.gov/common/uploads/structured_data/07CE9CF9-1DD8-B71B-0BE0B00EA3B3A695.jpg'},\n",
       "  {'credit': 'NPS / Chris Wonderly',\n",
       "   'altText': 'tall, stone formations with cars and trailers beneath them',\n",
       "   'title': 'Campground View',\n",
       "   'caption': 'Devils Garden Campground sits among tall sandstone fins.',\n",
       "   'url': 'https://www.nps.gov/common/uploads/structured_data/07DD0A22-1DD8-B71B-0BAC55D4A5726931.jpg'},\n",
       "  {'credit': 'NPS / Chris Wonderly',\n",
       "   'altText': 'a campsite with picnic table and fire ring',\n",
       "   'title': 'Campsite',\n",
       "   'caption': 'All campsites have a picnic table and fire ring.',\n",
       "   'url': 'https://www.nps.gov/common/uploads/structured_data/086672B1-1DD8-B71B-0B3096C687741386.jpg'}],\n",
       " 'parkCode': 'arch',\n",
       " 'amenities': {'trashrecyclingcollection': 'Yes - seasonal',\n",
       "  'toilets': ['Flush Toilets - seasonal'],\n",
       "  'internetconnectivity': 'No',\n",
       "  'showers': ['Coin-Operated - Seasonal'],\n",
       "  'cellphonereception': 'No',\n",
       "  'laundry': 'Yes - seasonal',\n",
       "  'amphitheater': '',\n",
       "  'dumpstation': 'Yes - seasonal',\n",
       "  'campstore': 'Yes - seasonal',\n",
       "  'stafforvolunteerhostonsite': 'Yes - seasonal',\n",
       "  'potablewater': ['Yes - seasonal'],\n",
       "  'iceavailableforsale': 'Yes - seasonal',\n",
       "  'firewoodforsale': 'Yes - seasonal',\n",
       "  'ampitheater': 'Yes - seasonal',\n",
       "  'foodstoragelockers': 'Yes - seasonal'},\n",
       " 'id': '37',\n",
       " 'weatheroverview': 'Southeast Utah is part of the Colorado Plateau, a \"high desert\" region that experiences wide temperature fluctuations. In spring and fall, daytime highs average 60° to 80°F (15° to 26°C) and lows average 30° to 50°F (-1° to 10°C). Summer temperatures often exceed 100°F (37°C), making strenuous exercise difficult. Late summer monsoon season brings violent storm cells which often cause flash floods. Winters are cold, with highs averaging 30° to 50°F (-1° to 10°C), and lows averaging 0° to 20°F (-17° to -6°C)',\n",
       " 'audioDescription': '',\n",
       " 'reservationInfo': 'You can reserve campsites for nights between March 1 and October 31. Between November 1 and February 28, all sites are first-come, first served. Phone and online reservations for both group and individual sites must be made through www.recreation.gov or by calling 1-877-444-6777.  \\n\\nThe earliest you can make reservations for standard sites is 10 am eastern time, six months in advance. The latest you can make reservations is four days in advance. You can reserve group sites up to 12 months in advance.\\n\\nThe campground has two sites for groups of 11 or more people. Juniper Basin campsite accommodates up to 55 people and is available March 1 to October 31; Canyon Wren campsite accommodates up to 35 and may be reserved year-round. No RVs or trailers are permitted in the group sites.',\n",
       " 'accessibility': {'wheelchairaccess': 'A person using a wheelchair should be able to navigate the accessible campsite. The road has slopes, speed bumps, and drainage ditches that may make travel by wheelchair difficult. Bathrooms are accessible. The nearest bathroom to the ADA accessible campsite is two sites down, reachable by a paved road. The path to the amphitheater is paved, but ground surface in the amphitheater is gravel. Benches are available.',\n",
       "  'internetinfo': 'Public Wi-Fi may be available at Arches Visitor Center.',\n",
       "  'rvallowed': '1',\n",
       "  'cellphoneinfo': 'You may be able to get cell coverage in other parts of the park. The closer you are to Moab and the La Sal Mountains, the better your chances will be.',\n",
       "  'firestovepolicy': 'Fires must be contained in the fire rings provided. In winter, you can purchase firewood at the visitor center. Firewood collecting is not allowed because woody vegetation grows so slowly in the desert.',\n",
       "  'rvmaxlength': '40',\n",
       "  'additionalinfo': \"Campsites are usually reserved months in advance during the busy season (March-October). If you have not reserved a site prior to arrival at the park during these months, plan on utilizing other camping options in the Moab area.  For a complete list of campgrounds outside Arches, visit www.discovermoab.com.\\n\\nRoads and parking areas at the campground are paved.\\n\\nThere are sinks outside the comfort stations for washing dishes. \\n\\nThere are no services inside Arches National Park. The nearest place to get food, gas, and supplies is Moab, Utah, approximately 45-60 minutes' drive from the campground.\",\n",
       "  'trailermaxlength': '0',\n",
       "  'adainfo': 'Devils Garden Campground has two ADA accessible campsites. We hold one site (site 4H), first-come, first-served for people with disabilities only. The other site (site 7) is available for reservation March-October, up to six months in advance. In winter all sites are first-come, first-served.\\n\\nThe majority of the accessible sites are paved, making it easy to navigate with a wheelchair. The tent pad is dirt, but the rest of the area surrounding the picnic table, grill, and fire ring is paved. There is an accessible bathroom nearby.',\n",
       "  'rvinfo': 'RVs and trailers are welcome in Devils Garden Campground. Sites range in length from 20 to 40 feet.',\n",
       "  'accessroads': ['Paved Roads - All vehicles OK'],\n",
       "  'trailerallowed': '1',\n",
       "  'classifications': ['Limited Development Campground']},\n",
       " 'directionsoverview': 'To reach the Devils Garden Campground, enter the park off US 191, 5 miles north of Moab. Follow the main park road 18 miles, and follow signs for the campground.',\n",
       " 'name': 'Devils Garden Campground',\n",
       " 'latLong': '{lat:38.7773329, lng:-109.5887991}',\n",
       " 'addresses': [{'postalCode': '84532',\n",
       "   'city': 'Moab',\n",
       "   'stateCode': 'UT',\n",
       "   'line1': '2282 Resource Blvd.',\n",
       "   'type': 'Mailing',\n",
       "   'line3': '',\n",
       "   'line2': ''},\n",
       "  {'postalCode': '84532',\n",
       "   'city': 'Moab',\n",
       "   'stateCode': 'UT',\n",
       "   'line1': '18 miles inside park entrance',\n",
       "   'type': 'Physical',\n",
       "   'line3': '',\n",
       "   'line2': ''}],\n",
       " 'latitude': '38.7773329'}"
      ]
     },
     "execution_count": 98,
     "metadata": {},
     "output_type": "execute_result"
    }
   ],
   "source": [
    "campground_json['data'][0]"
   ]
  },
  {
   "cell_type": "code",
   "execution_count": 107,
   "metadata": {},
   "outputs": [],
   "source": [
    "ridbendpoint = \"https://ridb.recreation.gov/api/v1/campsites\"\n",
    "ridbkey = '9404d711-544a-48e4-8e75-2b8c04d4b4eb'\n",
    "\n",
    "\n",
    "ridbparams = {'limit':50,'offset':0,'apikey': ridbkey}\n",
    "\n",
    "response = requests.get(ridbendpoint, params=ridbparams)"
   ]
  },
  {
   "cell_type": "code",
   "execution_count": 108,
   "metadata": {},
   "outputs": [
    {
     "name": "stdout",
     "output_type": "stream",
     "text": [
      "https://ridb.recreation.gov/api/v1/campsites?limit=50&offset=0&apikey=9404d711-544a-48e4-8e75-2b8c04d4b4eb 200\n"
     ]
    }
   ],
   "source": [
    "print(response.request.url, response.status_code)"
   ]
  },
  {
   "cell_type": "code",
   "execution_count": 109,
   "metadata": {},
   "outputs": [
    {
     "data": {
      "text/plain": [
       "dict_keys(['RECDATA', 'METADATA'])"
      ]
     },
     "execution_count": 109,
     "metadata": {},
     "output_type": "execute_result"
    }
   ],
   "source": [
    "facilities2 = json.loads(response.content)\n",
    "facilities2.keys()"
   ]
  },
  {
   "cell_type": "code",
   "execution_count": 112,
   "metadata": {},
   "outputs": [
    {
     "data": {
      "text/plain": [
       "{'RESULTS': {'CURRENT_COUNT': 50, 'TOTAL_COUNT': 101941},\n",
       " 'SEARCH_PARAMETERS': {'QUERY': '', 'LIMIT': 50, 'OFFSET': 0}}"
      ]
     },
     "execution_count": 112,
     "metadata": {},
     "output_type": "execute_result"
    }
   ],
   "source": [
    "facilities2['METADATA']"
   ]
  },
  {
   "cell_type": "code",
   "execution_count": 113,
   "metadata": {},
   "outputs": [
    {
     "data": {
      "text/plain": [
       "281"
      ]
     },
     "execution_count": 113,
     "metadata": {},
     "output_type": "execute_result"
    }
   ],
   "source": [
    "math.ceil(14022 / 50)"
   ]
  },
  {
   "cell_type": "code",
   "execution_count": 114,
   "metadata": {},
   "outputs": [
    {
     "ename": "NameError",
     "evalue": "name 'facilities' is not defined",
     "output_type": "error",
     "traceback": [
      "\u001b[0;31m---------------------------------------------------------------------------\u001b[0m",
      "\u001b[0;31mNameError\u001b[0m                                 Traceback (most recent call last)",
      "\u001b[0;32m<ipython-input-114-edc90f7b70f1>\u001b[0m in \u001b[0;36m<module>\u001b[0;34m\u001b[0m\n\u001b[0;32m----> 1\u001b[0;31m \u001b[0mfacilities\u001b[0m\u001b[0;34m[\u001b[0m\u001b[0;34m'RECDATA'\u001b[0m\u001b[0;34m]\u001b[0m\u001b[0;34m[\u001b[0m\u001b[0;36m1\u001b[0m\u001b[0;34m]\u001b[0m\u001b[0;34m\u001b[0m\u001b[0;34m\u001b[0m\u001b[0m\n\u001b[0m",
      "\u001b[0;31mNameError\u001b[0m: name 'facilities' is not defined"
     ]
    }
   ],
   "source": [
    "facilities['RECDATA'][1]"
   ]
  },
  {
   "cell_type": "code",
   "execution_count": null,
   "metadata": {},
   "outputs": [],
   "source": [
    "facilities2['RECDATA'][0]"
   ]
  },
  {
   "cell_type": "code",
   "execution_count": null,
   "metadata": {},
   "outputs": [],
   "source": []
  }
 ],
 "metadata": {
  "kernelspec": {
   "display_name": "Python 3",
   "language": "python",
   "name": "python3"
  },
  "language_info": {
   "codemirror_mode": {
    "name": "ipython",
    "version": 3
   },
   "file_extension": ".py",
   "mimetype": "text/x-python",
   "name": "python",
   "nbconvert_exporter": "python",
   "pygments_lexer": "ipython3",
   "version": "3.7.4"
  }
 },
 "nbformat": 4,
 "nbformat_minor": 2
}
