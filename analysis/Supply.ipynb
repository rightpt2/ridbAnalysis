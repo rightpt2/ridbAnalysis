{
 "cells": [
  {
   "cell_type": "code",
   "execution_count": 1,
   "metadata": {},
   "outputs": [],
   "source": [
    "import pandas as pd\n",
    "import numpy as np\n",
    "import json\n",
    "import requests\n",
    "import os"
   ]
  },
  {
   "cell_type": "code",
   "execution_count": 2,
   "metadata": {},
   "outputs": [],
   "source": [
    "# lets utilize the NPS api to get as much data as we can about the National Parks and the supply of campsites"
   ]
  },
  {
   "cell_type": "code",
   "execution_count": 3,
   "metadata": {},
   "outputs": [],
   "source": [
    "# first lets explore the parks endpoint to see what data you get\n",
    "endpoint = \"https://developer.nps.gov/api/v1/parks\"\n",
    "key = os.getenv(\"NPSKEY\")\n",
    "parameters = {\"limit\":50, \"start\":0, \"api_key\":key}\n",
    "response = requests.get(url=endpoint, params=parameters)\n",
    "data = json.loads(response.content)"
   ]
  },
  {
   "cell_type": "code",
   "execution_count": 4,
   "metadata": {},
   "outputs": [
    {
     "name": "stdout",
     "output_type": "stream",
     "text": [
      "dict_keys(['total', 'data', 'limit', 'start']) \n",
      "\n",
      "There are 497 total parks \n",
      "\n",
      "There request we sent had a limit of 50 total parks \n",
      "\n",
      "There request we sent started with park number 1 \n",
      "\n",
      "the 'data' is type <class 'list'> and has 50 elements \n",
      "\n",
      "the 'data' for park 0 is type <class 'dict'> and has 22 keys \n",
      "\n",
      "the information for each park is ['contacts', 'states', 'longitude', 'activities', 'entranceFees', 'directionsInfo', 'entrancePasses', 'directionsUrl', 'url', 'weatherInfo', 'name', 'operatingHours', 'topics', 'latLong', 'description', 'images', 'designation', 'parkCode', 'addresses', 'id', 'fullName', 'latitude']\n"
     ]
    }
   ],
   "source": [
    "# first lets see the keys\n",
    "print(data.keys(),\"\\n\")\n",
    "\n",
    "# now lets explore\n",
    "print(\"There are {0} total parks\".format(data['total']), \"\\n\")\n",
    "\n",
    "# now lets explore\n",
    "print(\"There request we sent had a limit of {0} total parks\".format(data['limit']),\"\\n\")\n",
    "\n",
    "# now lets explore\n",
    "print(\"There request we sent started with park number {0}\".format(data['start']),\"\\n\")\n",
    "\n",
    "print(\"the 'data' is type {0} and has {1} elements\".format(type(data['data']),len(data['data'])),\"\\n\")\n",
    "\n",
    "print(\"the 'data' for park 0 is type {0} and has {1} keys\".format(type(data['data'][0]),\n",
    "                                                                  len(data['data'][0].keys())),\"\\n\")\n",
    "\n",
    "print(\"the information for each park is {0}\".format(list(data['data'][0].keys())))"
   ]
  },
  {
   "cell_type": "code",
   "execution_count": 5,
   "metadata": {},
   "outputs": [],
   "source": [
    "def response_generator(endpoint, key, start):\n",
    "    \"\"\"This function will take in the parameters, key, and endpoint and return a response\"\"\"\n",
    "    \n",
    "    parameters = {\"limit\":50, \"start\":start, \"api_key\":key}\n",
    "    \n",
    "    response = requests.get(url=endpoint, params=parameters)\n",
    "    \n",
    "    return response\n",
    "    "
   ]
  },
  {
   "cell_type": "code",
   "execution_count": 6,
   "metadata": {},
   "outputs": [],
   "source": [
    "def parse_dict(tgt_dict, scope: list):\n",
    "    \n",
    "    \"\"\"This is a quick group of formatting functions to take in a specific dictionary and give back a data frame\"\"\"\n",
    "    \n",
    "    count_parks = len(tgt_dict['data'])\n",
    "    \n",
    "    parks_loop = []\n",
    "    \n",
    "    for i in range(count_parks):\n",
    "\n",
    "        # for each campsite we will add what we care about to a list\n",
    "        specific_park = []\n",
    "        \n",
    "        for item in scope:\n",
    "            \n",
    "            # if the item is in the dictionary, add it to the list, if not add none\n",
    "            if item in tgt_dict['data'][i].keys(): \n",
    "                specific_park.append(tgt_dict['data'][i][item])\n",
    "            \n",
    "            else:\n",
    "                 specific_park.append(None)\n",
    "        \n",
    "        parks_loop.append(specific_park)\n",
    "\n",
    "        \n",
    "    return pd.DataFrame(parks_loop, columns=scope)"
   ]
  },
  {
   "cell_type": "code",
   "execution_count": 7,
   "metadata": {},
   "outputs": [],
   "source": [
    "def request_loop(endpoint, key, scope, size=10):\n",
    "    \n",
    "    df_lst_parks = []\n",
    "    \n",
    "    for i in range(size):\n",
    "\n",
    "        print(\"Getting {0} loop of {1}\".format(i+1, size))\n",
    "        \n",
    "        response = response_generator(endpoint=endpoint, key=key, start=(i*50))\n",
    "        \n",
    "        if response.status_code == 200:\n",
    "        \n",
    "            # if we have a valid response we will convert it to a df\n",
    "            response_dct = json.loads(response.content)\n",
    "            \n",
    "            df = parse_dict(response_dct, scope)\n",
    "            \n",
    "            # lets add it to a list of data frames\n",
    "            df_lst_parks.append(df)\n",
    "        \n",
    "            # clear the dictionary to release memory and help with potential collision. \n",
    "            response_dct.clear()\n",
    "        \n",
    "        \n",
    "        \n",
    "    # last we will concat all the data frames and return them\n",
    "    return pd.concat(df_lst_parks)"
   ]
  },
  {
   "cell_type": "code",
   "execution_count": 8,
   "metadata": {},
   "outputs": [
    {
     "name": "stdout",
     "output_type": "stream",
     "text": [
      "Getting 1 loop of 10\n",
      "Getting 2 loop of 10\n",
      "Getting 3 loop of 10\n",
      "Getting 4 loop of 10\n",
      "Getting 5 loop of 10\n",
      "Getting 6 loop of 10\n",
      "Getting 7 loop of 10\n",
      "Getting 8 loop of 10\n",
      "Getting 9 loop of 10\n",
      "Getting 10 loop of 10\n"
     ]
    }
   ],
   "source": [
    "endpoint = \"https://developer.nps.gov/api/v1/parks\"\n",
    "key = os.getenv(\"NPSKEY\")\n",
    "\n",
    "scope = [\"parkCode\", 'id', \"name\", 'fullName', 'longitude','latitude', 'designation',\"url\", \"states\"]\n",
    "\n",
    "# to reuse these we will pass them the endpoint, the key, the scope(output from data dict), and number of loops\n",
    "df_parks = request_loop(endpoint=endpoint, key=key, scope=scope, size=10)\n",
    "\n"
   ]
  },
  {
   "cell_type": "code",
   "execution_count": 9,
   "metadata": {},
   "outputs": [],
   "source": [
    "df_parks = df_parks.reset_index().drop('index', axis=1)"
   ]
  },
  {
   "cell_type": "code",
   "execution_count": 10,
   "metadata": {},
   "outputs": [],
   "source": [
    "def in_wiki_lst(txt):\n",
    "    i = 0\n",
    "\n",
    "    for park in wiki_names_lst:\n",
    "        if park.lower() in txt.lower():\n",
    "            i += 1\n",
    "    return i > 0 "
   ]
  },
  {
   "cell_type": "code",
   "execution_count": 11,
   "metadata": {},
   "outputs": [],
   "source": [
    "# lets see if we can use the wikipedia list of National Park Names to match them to recreaction area names\n",
    "nps_names = pd.read_csv(\"../Data/OtherSource/wikipedia_nps_names.csv\")\n",
    "wiki_names_lst = [x.lstrip('\\xa0').strip('\\xa0') for x in nps_names['NationalParks_clean'].values]\n"
   ]
  },
  {
   "cell_type": "code",
   "execution_count": 12,
   "metadata": {},
   "outputs": [],
   "source": [
    "df_parks['InWikiList'] = df_parks.fullName.apply(in_wiki_lst)"
   ]
  },
  {
   "cell_type": "code",
   "execution_count": 13,
   "metadata": {},
   "outputs": [],
   "source": [
    "df_parks_np = df_parks[df_parks.InWikiList]"
   ]
  },
  {
   "cell_type": "code",
   "execution_count": 14,
   "metadata": {},
   "outputs": [],
   "source": [
    "np_park_codes = df_parks_np['parkCode'].tolist()"
   ]
  },
  {
   "cell_type": "code",
   "execution_count": 15,
   "metadata": {},
   "outputs": [],
   "source": [
    "# lets see if we can find the campsites\n",
    "\n",
    "def campground_counts(endpoint, key, park_codes):\n",
    "    \n",
    "    camp_count = []\n",
    "    \n",
    "    for park in park_codes:\n",
    "    \n",
    "        parameters = {\"parkCode\":park,\"limit\":50, \"start\":0, \"api_key\":key}\n",
    "\n",
    "        response = requests.get(endpoint,parameters)\n",
    "        \n",
    "        ans = json.loads(response.content)\n",
    "        \n",
    "    return ans"
   ]
  },
  {
   "cell_type": "code",
   "execution_count": 16,
   "metadata": {},
   "outputs": [],
   "source": [
    "dct_ans = campground_counts(endpoint = \"https://developer.nps.gov/api/v1/campgrounds\", \n",
    "                      key = os.getenv(\"NPSKEY\"), park_codes= np_park_codes[60:62])"
   ]
  },
  {
   "cell_type": "code",
   "execution_count": 17,
   "metadata": {},
   "outputs": [],
   "source": [
    "# lets see if we can find the campsites\n",
    "camp_endpoint = \"https://developer.nps.gov/api/v1/campgrounds\"\n",
    "camp_key = os.getenv(\"NPSKEY\")\n",
    "camp_start = 0\n",
    "\n",
    "#Lets use our formula to quickly generate a response for the campgrounds endpoint\n",
    "response = response_generator(endpoint=camp_endpoint, key=camp_key, start=camp_start)"
   ]
  },
  {
   "cell_type": "code",
   "execution_count": 18,
   "metadata": {},
   "outputs": [
    {
     "data": {
      "text/plain": [
       "dict_keys(['total', 'data', 'limit', 'start'])"
      ]
     },
     "execution_count": 18,
     "metadata": {},
     "output_type": "execute_result"
    }
   ],
   "source": [
    "camprgound_dct = json.loads(response.content)\n",
    "camprgound_dct.keys()"
   ]
  },
  {
   "cell_type": "code",
   "execution_count": 19,
   "metadata": {},
   "outputs": [
    {
     "data": {
      "text/plain": [
       "dict_keys(['contacts', 'reservationUrl', 'regulationsurl', 'numberOfSitesReservable', 'campsites', 'longitude', 'numberOfSitesFirstComeFirstServe', 'directionsUrl', 'fees', 'regulationsOverview', 'operatingHours', 'description', 'images', 'parkCode', 'amenities', 'id', 'weatheroverview', 'audioDescription', 'reservationInfo', 'accessibility', 'directionsoverview', 'name', 'latLong', 'addresses', 'latitude'])"
      ]
     },
     "execution_count": 19,
     "metadata": {},
     "output_type": "execute_result"
    }
   ],
   "source": [
    "camprgound_dct['data'][0].keys()"
   ]
  },
  {
   "cell_type": "code",
   "execution_count": 20,
   "metadata": {},
   "outputs": [
    {
     "data": {
      "text/plain": [
       "True"
      ]
     },
     "execution_count": 20,
     "metadata": {},
     "output_type": "execute_result"
    }
   ],
   "source": [
    "'campsites' in camprgound_dct['data'][31].keys()\n",
    "\n",
    "#('address') #['addresses'] #.keys()"
   ]
  },
  {
   "cell_type": "code",
   "execution_count": 21,
   "metadata": {},
   "outputs": [
    {
     "data": {
      "text/plain": [
       "array(['parkCode', 'id', 'name', 'fullName', 'longitude', 'latitude',\n",
       "       'designation', 'url', 'states', 'InWikiList'], dtype=object)"
      ]
     },
     "execution_count": 21,
     "metadata": {},
     "output_type": "execute_result"
    }
   ],
   "source": [
    "df_parks_np.columns.values"
   ]
  },
  {
   "cell_type": "code",
   "execution_count": 22,
   "metadata": {},
   "outputs": [
    {
     "name": "stdout",
     "output_type": "stream",
     "text": [
      "Getting 1 loop of 11\n",
      "Getting 2 loop of 11\n",
      "Getting 3 loop of 11\n",
      "Getting 4 loop of 11\n",
      "Getting 5 loop of 11\n",
      "Getting 6 loop of 11\n",
      "Getting 7 loop of 11\n",
      "Getting 8 loop of 11\n",
      "Getting 9 loop of 11\n",
      "Getting 10 loop of 11\n",
      "Getting 11 loop of 11\n"
     ]
    }
   ],
   "source": [
    "camp_endpoint = \"https://developer.nps.gov/api/v1/campgrounds\"\n",
    "camp_key = os.getenv(\"NPSKEY\")\n",
    "\n",
    "camp_scope = ['id', 'name', 'parkCode', 'campsites',  'latLong', 'addresses', 'reservationUrl','accessibility']\n",
    "\n",
    "# to reuse these we will pass them the endpoint, the key, the scope(output from data dict), and number of loops\n",
    "df_camps = request_loop(endpoint=camp_endpoint, key=camp_key, scope=camp_scope, size=11)\n"
   ]
  },
  {
   "cell_type": "code",
   "execution_count": 23,
   "metadata": {},
   "outputs": [],
   "source": [
    "# lets extrat the number of campsites from the \n",
    "df_camps['campground_counts'] = [int(x['totalsites']) for x in df_camps['campsites']]\n",
    "\n",
    "# also lets rename the campsite id and name so the fields dont clash\n",
    "df_camps.rename(columns={\"id\":\"campgroundId\", \"name\":\"campgroundName\"}, inplace=True)"
   ]
  },
  {
   "cell_type": "code",
   "execution_count": 24,
   "metadata": {},
   "outputs": [],
   "source": [
    "supply = pd.merge(left=df_parks_np, right=df_camps, how='left', on=['parkCode'])"
   ]
  },
  {
   "cell_type": "code",
   "execution_count": 25,
   "metadata": {},
   "outputs": [],
   "source": [
    "# lets coun thte total number of campgrounds\n",
    "supply_park_campground_count = supply.groupby(by=['parkCode', 'id', 'name', 'longitude', \n",
    "                                'latitude', 'url'])['campground_counts'].sum().reset_index().sort_values(by='campground_counts', \n",
    "                                                                                                         ascending=False)\n",
    "\n",
    "supply_park_campground_count.campground_counts = supply_park_campground_count.campground_counts.astype(int)\n"
   ]
  },
  {
   "cell_type": "code",
   "execution_count": 26,
   "metadata": {},
   "outputs": [],
   "source": [
    "supply_lst = [*zip(supply_park_campground_count['name'],\n",
    "                      supply_park_campground_count['parkCode'],\n",
    "                      supply_park_campground_count['latitude'],\n",
    "                      supply_park_campground_count['longitude'],\n",
    "                      supply_park_campground_count['campground_counts']\n",
    "                  )\n",
    "            ]\n"
   ]
  },
  {
   "cell_type": "code",
   "execution_count": 27,
   "metadata": {},
   "outputs": [
    {
     "data": {
      "text/plain": [
       "[('Yellowstone', 'yell', '44.59824417', '-110.5471695', 2147),\n",
       " ('Sequoia & Kings Canyon', 'seki', '36.71277299', '-118.587429', 1420)]"
      ]
     },
     "execution_count": 27,
     "metadata": {},
     "output_type": "execute_result"
    }
   ],
   "source": [
    "# Lets see if we cant visualize these a bit better. Lets use follium to generate a few quick maps\n",
    "supply_lst[:2]"
   ]
  },
  {
   "cell_type": "code",
   "execution_count": 30,
   "metadata": {},
   "outputs": [
    {
     "data": {
      "text/html": [
       "<div style=\"width:100%;\"><div style=\"position:relative;width:100%;height:0;padding-bottom:60%;\"><iframe src=\"about:blank\" style=\"position:absolute;width:100%;height:100%;left:0;top:0;border:none !important;\" data-html=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 onload=\"this.contentDocument.open();this.contentDocument.write(atob(this.getAttribute('data-html')));this.contentDocument.close();\" allowfullscreen webkitallowfullscreen mozallowfullscreen></iframe></div></div>"
      ],
      "text/plain": [
       "<folium.folium.Map at 0x11817e910>"
      ]
     },
     "execution_count": 30,
     "metadata": {},
     "output_type": "execute_result"
    }
   ],
   "source": [
    "import folium\n",
    "\n",
    "# Note: use tiles = \"Stamen Terrain\" insead of \"Mapbox Bright\", We create a map with a center and style\n",
    "map = folium.Map(location=[39.5, -98.35], \n",
    "                zoom_start=4,\n",
    "                #tiles=\"Stamen Terrain\"\n",
    ")\n",
    "\n",
    "\n",
    "# lets find use the zip list we created to create a point for each national park\n",
    "for park in supply_lst:\n",
    "    location = (park[2], park[3])\n",
    "    popup =  \"{0}: {1} campsites\".format(park[0], int(park[4]))\n",
    "    icon = folium.Icon(color='blue') \n",
    "    marker = folium.Marker(location=location, popup=popup, icon=icon)\n",
    "    map.add_child(marker) \n",
    "\n",
    "\n",
    "\n",
    "\n",
    "# then we save the map\n",
    "map\n",
    "\n"
   ]
  },
  {
   "cell_type": "code",
   "execution_count": 32,
   "metadata": {},
   "outputs": [
    {
     "data": {
      "image/png": "[encoded data removed]",
      "text/plain": [
       "<Figure size 432x288 with 1 Axes>"
      ]
     },
     "metadata": {
      "needs_background": "light"
     },
     "output_type": "display_data"
    }
   ],
   "source": [
    "import matplotlib.pyplot as plt\n",
    "\n",
    "\n",
    "plt.bar(x=supply_park_campground_count['parkCode'][:10], height=supply_park_campground_count['campground_counts'][:10], \n",
    "        width=0.9, edgecolor='w')\n",
    "\n",
    "plt.xlabel('park code')\n",
    "plt.ylabel('')\n",
    "\n",
    "plt.show()\n",
    "#supply_park_campground_count"
   ]
  },
  {
   "cell_type": "code",
   "execution_count": 35,
   "metadata": {},
   "outputs": [
    {
     "name": "stdout",
     "output_type": "stream",
     "text": [
      "After a little bit of work we find that there are roughly 15,426 unique campsites in the NPS\n"
     ]
    }
   ],
   "source": [
    "tot_campsites = sum(supply_park_campground_count['campground_counts'])\n",
    "\n",
    "print(\"After a little bit of work we find that there are roughly {0:,} unique campsites in the NPS\".format(tot_campsites))"
   ]
  },
  {
   "cell_type": "code",
   "execution_count": null,
   "metadata": {},
   "outputs": [],
   "source": []
  }
 ],
 "metadata": {
  "kernelspec": {
   "display_name": "Python 3",
   "language": "python",
   "name": "python3"
  },
  "language_info": {
   "codemirror_mode": {
    "name": "ipython",
    "version": 3
   },
   "file_extension": ".py",
   "mimetype": "text/x-python",
   "name": "python",
   "nbconvert_exporter": "python",
   "pygments_lexer": "ipython3",
   "version": "3.7.4"
  }
 },
 "nbformat": 4,
 "nbformat_minor": 2
}
