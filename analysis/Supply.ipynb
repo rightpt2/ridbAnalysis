{
 "cells": [
  {
   "cell_type": "code",
   "execution_count": 1,
   "metadata": {},
   "outputs": [],
   "source": [
    "import pandas as pd\n",
    "import numpy as np\n",
    "import json\n",
    "import requests\n",
    "import os"
   ]
  },
  {
   "cell_type": "code",
   "execution_count": 2,
   "metadata": {},
   "outputs": [],
   "source": [
    "# lets utilize the NPS api to get as much data as we can about the National Parks and the supply of campsites"
   ]
  },
  {
   "cell_type": "code",
   "execution_count": 3,
   "metadata": {},
   "outputs": [],
   "source": [
    "# first lets explore the parks endpoint to see what data you get\n",
    "endpoint = \"https://developer.nps.gov/api/v1/parks\"\n",
    "key = os.getenv(\"NPSKEY\")\n",
    "parameters = {\"limit\":50, \"start\":0, \"api_key\":key}\n",
    "response = requests.get(url=endpoint, params=parameters)\n",
    "data = json.loads(response.content)"
   ]
  },
  {
   "cell_type": "code",
   "execution_count": 4,
   "metadata": {},
   "outputs": [
    {
     "name": "stdout",
     "output_type": "stream",
     "text": [
      "dict_keys(['total', 'data', 'limit', 'start']) \n",
      "\n",
      "There are 497 total parks \n",
      "\n",
      "There request we sent had a limit of 50 total parks \n",
      "\n",
      "There request we sent started with park number 1 \n",
      "\n",
      "the 'data' is type <class 'list'> and has 50 elements \n",
      "\n",
      "the 'data' for park 0 is type <class 'dict'> and has 22 keys \n",
      "\n",
      "the information for each park is ['contacts', 'states', 'longitude', 'activities', 'entranceFees', 'directionsInfo', 'entrancePasses', 'directionsUrl', 'url', 'weatherInfo', 'name', 'operatingHours', 'topics', 'latLong', 'description', 'images', 'designation', 'parkCode', 'addresses', 'id', 'fullName', 'latitude']\n"
     ]
    }
   ],
   "source": [
    "# first lets see the keys\n",
    "print(data.keys(),\"\\n\")\n",
    "\n",
    "# now lets explore\n",
    "print(\"There are {0} total parks\".format(data['total']), \"\\n\")\n",
    "\n",
    "# now lets explore\n",
    "print(\"There request we sent had a limit of {0} total parks\".format(data['limit']),\"\\n\")\n",
    "\n",
    "# now lets explore\n",
    "print(\"There request we sent started with park number {0}\".format(data['start']),\"\\n\")\n",
    "\n",
    "print(\"the 'data' is type {0} and has {1} elements\".format(type(data['data']),len(data['data'])),\"\\n\")\n",
    "\n",
    "print(\"the 'data' for park 0 is type {0} and has {1} keys\".format(type(data['data'][0]),\n",
    "                                                                  len(data['data'][0].keys())),\"\\n\")\n",
    "\n",
    "print(\"the information for each park is {0}\".format(list(data['data'][0].keys())))"
   ]
  },
  {
   "cell_type": "code",
   "execution_count": 5,
   "metadata": {},
   "outputs": [],
   "source": [
    "def response_generator(endpoint, key, start):\n",
    "    \"\"\"This function will take in the parameters, key, and endpoint and return a response\"\"\"\n",
    "    \n",
    "    parameters = {\"limit\":50, \"start\":start, \"api_key\":key}\n",
    "    \n",
    "    response = requests.get(url=endpoint, params=parameters)\n",
    "    \n",
    "    return response\n",
    "    "
   ]
  },
  {
   "cell_type": "code",
   "execution_count": 6,
   "metadata": {},
   "outputs": [],
   "source": [
    "def parse_dict(tgt_dict, scope: list):\n",
    "    \n",
    "    \"\"\"This is a quick group of formatting functions to take in a specific dictionary and give back a data frame\"\"\"\n",
    "    \n",
    "    count_parks = len(tgt_dict['data'])\n",
    "    \n",
    "    parks_loop = []\n",
    "    \n",
    "    for i in range(count_parks):\n",
    "\n",
    "        # for each campsite we will add what we care about to a list\n",
    "        specific_park = []\n",
    "        \n",
    "        for item in scope:\n",
    "            \n",
    "            # if the item is in the dictionary, add it to the list, if not add none\n",
    "            if item in tgt_dict['data'][i].keys(): \n",
    "                specific_park.append(tgt_dict['data'][i][item])\n",
    "            \n",
    "            else:\n",
    "                 specific_park.append(None)\n",
    "        \n",
    "        parks_loop.append(specific_park)\n",
    "\n",
    "        \n",
    "    return pd.DataFrame(parks_loop, columns=scope)"
   ]
  },
  {
   "cell_type": "code",
   "execution_count": 7,
   "metadata": {},
   "outputs": [],
   "source": [
    "def request_loop(endpoint, key, scope, size=10):\n",
    "    \n",
    "    df_lst_parks = []\n",
    "    \n",
    "    for i in range(size):\n",
    "\n",
    "        print(\"Getting {0} loop of {1}\".format(i+1, size))\n",
    "        \n",
    "        response = response_generator(endpoint=endpoint, key=key, start=(i*50))\n",
    "        \n",
    "        if response.status_code == 200:\n",
    "        \n",
    "            # if we have a valid response we will convert it to a df\n",
    "            response_dct = json.loads(response.content)\n",
    "            \n",
    "            df = parse_dict(response_dct, scope)\n",
    "            \n",
    "            # lets add it to a list of data frames\n",
    "            df_lst_parks.append(df)\n",
    "        \n",
    "            # clear the dictionary to release memory and help with potential collision. \n",
    "            response_dct.clear()\n",
    "        \n",
    "        \n",
    "        \n",
    "    # last we will concat all the data frames and return them\n",
    "    return pd.concat(df_lst_parks)"
   ]
  },
  {
   "cell_type": "code",
   "execution_count": 8,
   "metadata": {},
   "outputs": [
    {
     "name": "stdout",
     "output_type": "stream",
     "text": [
      "Getting 1 loop of 10\n",
      "Getting 2 loop of 10\n",
      "Getting 3 loop of 10\n",
      "Getting 4 loop of 10\n",
      "Getting 5 loop of 10\n",
      "Getting 6 loop of 10\n",
      "Getting 7 loop of 10\n",
      "Getting 8 loop of 10\n",
      "Getting 9 loop of 10\n",
      "Getting 10 loop of 10\n"
     ]
    }
   ],
   "source": [
    "endpoint = \"https://developer.nps.gov/api/v1/parks\"\n",
    "key = os.getenv(\"NPSKEY\")\n",
    "\n",
    "scope = [\"parkCode\", 'id', \"name\", 'fullName', 'longitude','latitude', 'designation',\"url\", \"states\"]\n",
    "\n",
    "# to reuse these we will pass them the endpoint, the key, the scope(output from data dict), and number of loops\n",
    "df_parks = request_loop(endpoint=endpoint, key=key, scope=scope, size=10)\n",
    "\n"
   ]
  },
  {
   "cell_type": "code",
   "execution_count": 9,
   "metadata": {},
   "outputs": [],
   "source": [
    "df_parks = df_parks.reset_index().drop('index', axis=1)"
   ]
  },
  {
   "cell_type": "code",
   "execution_count": 10,
   "metadata": {},
   "outputs": [],
   "source": [
    "def in_wiki_lst(txt):\n",
    "    i = 0\n",
    "\n",
    "    for park in wiki_names_lst:\n",
    "        if park.lower() in txt.lower():\n",
    "            i += 1\n",
    "    return i > 0 "
   ]
  },
  {
   "cell_type": "code",
   "execution_count": 11,
   "metadata": {},
   "outputs": [],
   "source": [
    "# lets see if we can use the wikipedia list of National Park Names to match them to recreaction area names\n",
    "nps_names = pd.read_csv(\"../Data/OtherSource/wikipedia_nps_names.csv\")\n",
    "wiki_names_lst = [x.lstrip('\\xa0').strip('\\xa0') for x in nps_names['NationalParks_clean'].values]\n"
   ]
  },
  {
   "cell_type": "code",
   "execution_count": 12,
   "metadata": {},
   "outputs": [],
   "source": [
    "df_parks['InWikiList'] = df_parks.fullName.apply(in_wiki_lst)"
   ]
  },
  {
   "cell_type": "code",
   "execution_count": 13,
   "metadata": {},
   "outputs": [],
   "source": [
    "df_parks_np = df_parks[df_parks.InWikiList]"
   ]
  },
  {
   "cell_type": "code",
   "execution_count": 14,
   "metadata": {},
   "outputs": [],
   "source": [
    "np_park_codes = df_parks_np['parkCode'].tolist()"
   ]
  },
  {
   "cell_type": "code",
   "execution_count": 15,
   "metadata": {},
   "outputs": [],
   "source": [
    "# lets see if we can find the campsites\n",
    "\n",
    "def campground_counts(endpoint, key, park_codes):\n",
    "    \n",
    "    camp_count = []\n",
    "    \n",
    "    for park in park_codes:\n",
    "    \n",
    "        parameters = {\"parkCode\":park,\"limit\":50, \"start\":0, \"api_key\":key}\n",
    "\n",
    "        response = requests.get(endpoint,parameters)\n",
    "        \n",
    "        ans = json.loads(response.content)\n",
    "        \n",
    "    return ans"
   ]
  },
  {
   "cell_type": "code",
   "execution_count": 16,
   "metadata": {},
   "outputs": [],
   "source": [
    "dct_ans = campground_counts(endpoint = \"https://developer.nps.gov/api/v1/campgrounds\", \n",
    "                      key = os.getenv(\"NPSKEY\"), park_codes= np_park_codes[60:62])"
   ]
  },
  {
   "cell_type": "code",
   "execution_count": 17,
   "metadata": {},
   "outputs": [],
   "source": [
    "# lets see if we can find the campsites\n",
    "camp_endpoint = \"https://developer.nps.gov/api/v1/campgrounds\"\n",
    "camp_key = os.getenv(\"NPSKEY\")\n",
    "camp_start = 0\n",
    "\n",
    "#Lets use our formula to quickly generate a response for the campgrounds endpoint\n",
    "response = response_generator(endpoint=camp_endpoint, key=camp_key, start=camp_start)"
   ]
  },
  {
   "cell_type": "code",
   "execution_count": 18,
   "metadata": {},
   "outputs": [
    {
     "data": {
      "text/plain": [
       "dict_keys(['total', 'data', 'limit', 'start'])"
      ]
     },
     "execution_count": 18,
     "metadata": {},
     "output_type": "execute_result"
    }
   ],
   "source": [
    "camprgound_dct = json.loads(response.content)\n",
    "camprgound_dct.keys()"
   ]
  },
  {
   "cell_type": "code",
   "execution_count": 19,
   "metadata": {},
   "outputs": [
    {
     "data": {
      "text/plain": [
       "dict_keys(['contacts', 'reservationUrl', 'regulationsurl', 'numberOfSitesReservable', 'campsites', 'longitude', 'numberOfSitesFirstComeFirstServe', 'directionsUrl', 'fees', 'regulationsOverview', 'operatingHours', 'description', 'images', 'parkCode', 'amenities', 'id', 'weatheroverview', 'audioDescription', 'reservationInfo', 'accessibility', 'directionsoverview', 'name', 'latLong', 'addresses', 'latitude'])"
      ]
     },
     "execution_count": 19,
     "metadata": {},
     "output_type": "execute_result"
    }
   ],
   "source": [
    "camprgound_dct['data'][0].keys()"
   ]
  },
  {
   "cell_type": "code",
   "execution_count": 20,
   "metadata": {},
   "outputs": [
    {
     "data": {
      "text/plain": [
       "True"
      ]
     },
     "execution_count": 20,
     "metadata": {},
     "output_type": "execute_result"
    }
   ],
   "source": [
    "'campsites' in camprgound_dct['data'][31].keys()\n",
    "\n",
    "#('address') #['addresses'] #.keys()"
   ]
  },
  {
   "cell_type": "code",
   "execution_count": 21,
   "metadata": {},
   "outputs": [
    {
     "data": {
      "text/plain": [
       "array(['parkCode', 'id', 'name', 'fullName', 'longitude', 'latitude',\n",
       "       'designation', 'url', 'states', 'InWikiList'], dtype=object)"
      ]
     },
     "execution_count": 21,
     "metadata": {},
     "output_type": "execute_result"
    }
   ],
   "source": [
    "df_parks_np.columns.values"
   ]
  },
  {
   "cell_type": "code",
   "execution_count": 22,
   "metadata": {},
   "outputs": [
    {
     "name": "stdout",
     "output_type": "stream",
     "text": [
      "Getting 1 loop of 11\n",
      "Getting 2 loop of 11\n",
      "Getting 3 loop of 11\n",
      "Getting 4 loop of 11\n",
      "Getting 5 loop of 11\n",
      "Getting 6 loop of 11\n",
      "Getting 7 loop of 11\n",
      "Getting 8 loop of 11\n",
      "Getting 9 loop of 11\n",
      "Getting 10 loop of 11\n",
      "Getting 11 loop of 11\n"
     ]
    }
   ],
   "source": [
    "camp_endpoint = \"https://developer.nps.gov/api/v1/campgrounds\"\n",
    "camp_key = os.getenv(\"NPSKEY\")\n",
    "\n",
    "camp_scope = ['id', 'name', 'parkCode', 'campsites',  'latLong', 'addresses', 'reservationUrl','accessibility']\n",
    "\n",
    "# to reuse these we will pass them the endpoint, the key, the scope(output from data dict), and number of loops\n",
    "df_camps = request_loop(endpoint=camp_endpoint, key=camp_key, scope=camp_scope, size=11)\n"
   ]
  },
  {
   "cell_type": "code",
   "execution_count": 23,
   "metadata": {},
   "outputs": [],
   "source": [
    "# lets extrat the number of campsites from the \n",
    "df_camps['campground_counts'] = [int(x['totalsites']) for x in df_camps['campsites']]\n",
    "\n",
    "# also lets rename the campsite id and name so the fields dont clash\n",
    "df_camps.rename(columns={\"id\":\"campgroundId\", \"name\":\"campgroundName\"}, inplace=True)"
   ]
  },
  {
   "cell_type": "code",
   "execution_count": 24,
   "metadata": {},
   "outputs": [],
   "source": [
    "supply = pd.merge(left=df_parks_np, right=df_camps, how='left', on=['parkCode'])"
   ]
  },
  {
   "cell_type": "code",
   "execution_count": 25,
   "metadata": {},
   "outputs": [],
   "source": [
    "# lets coun thte total number of campgrounds\n",
    "supply_park_campground_count = supply.groupby(by=['parkCode', 'id', 'name', 'longitude', \n",
    "                                'latitude', 'url'])['campground_counts'].sum().reset_index().sort_values(by='campground_counts', \n",
    "                                                                                                         ascending=False)\n",
    "\n",
    "supply_park_campground_count.campground_counts = supply_park_campground_count.campground_counts.astype(int)\n"
   ]
  },
  {
   "cell_type": "code",
   "execution_count": 26,
   "metadata": {},
   "outputs": [],
   "source": [
    "supply_lst = [*zip(supply_park_campground_count['name'],\n",
    "                      supply_park_campground_count['parkCode'],\n",
    "                      supply_park_campground_count['latitude'],\n",
    "                      supply_park_campground_count['longitude'],\n",
    "                      supply_park_campground_count['campground_counts']\n",
    "                  )\n",
    "            ]\n"
   ]
  },
  {
   "cell_type": "code",
   "execution_count": 27,
   "metadata": {},
   "outputs": [
    {
     "data": {
      "text/plain": [
       "[('Yellowstone', 'yell', '44.59824417', '-110.5471695', 2147),\n",
       " ('Sequoia & Kings Canyon', 'seki', '36.71277299', '-118.587429', 1420)]"
      ]
     },
     "execution_count": 27,
     "metadata": {},
     "output_type": "execute_result"
    }
   ],
   "source": [
    "# Lets see if we cant visualize these a bit better. Lets use follium to generate a few quick maps\n",
    "supply_lst[:2]"
   ]
  },
  {
   "cell_type": "code",
   "execution_count": 28,
   "metadata": {},
   "outputs": [
    {
     "data": {
      "text/html": [
       "<div style=\"width:100%;\"><div style=\"position:relative;width:100%;height:0;padding-bottom:60%;\"><iframe src=\"about:blank\" style=\"position:absolute;width:100%;height:100%;left:0;top:0;border:none !important;\" data-html=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 onload=\"this.contentDocument.open();this.contentDocument.write(atob(this.getAttribute('data-html')));this.contentDocument.close();\" allowfullscreen webkitallowfullscreen mozallowfullscreen></iframe></div></div>"
      ],
      "text/plain": [
       "<folium.folium.Map at 0x11dcbe6d0>"
      ]
     },
     "execution_count": 28,
     "metadata": {},
     "output_type": "execute_result"
    }
   ],
   "source": [
    "import folium\n",
    "\n",
    "# Note: use tiles = \"Stamen Terrain\" insead of \"Mapbox Bright\", We create a map with a center and style\n",
    "map = folium.Map(location=[39.5, -98.35], \n",
    "                zoom_start=4,\n",
    "                #tiles=\"Stamen Terrain\"\n",
    ")\n",
    "\n",
    "\n",
    "# lets find use the zip list we created to create a point for each national park\n",
    "for park in supply_lst:\n",
    "    location = (park[2], park[3])\n",
    "    popup =  \"{0}: {1} campsites\".format(park[0], int(park[4]))\n",
    "    icon = folium.Icon(color='blue') \n",
    "    marker = folium.Marker(location=location, popup=popup, icon=icon)\n",
    "    map.add_child(marker) \n",
    "\n",
    "\n",
    "\n",
    "\n",
    "# then we save the map\n",
    "map\n",
    "\n"
   ]
  },
  {
   "cell_type": "code",
   "execution_count": 29,
   "metadata": {},
   "outputs": [
    {
     "data": {
      "text/plain": [
       "<Figure size 640x480 with 1 Axes>"
      ]
     },
     "metadata": {},
     "output_type": "display_data"
    }
   ],
   "source": [
    "import matplotlib.pyplot as plt\n",
    "\n",
    "\n",
    "plt.bar(x=supply_park_campground_count['parkCode'][:10], height=supply_park_campground_count['campground_counts'][:10], \n",
    "        width=0.9, edgecolor='w')\n",
    "\n",
    "plt.xlabel('park code')\n",
    "plt.ylabel('')\n",
    "\n",
    "plt.show()\n",
    "#supply_park_campground_count"
   ]
  },
  {
   "cell_type": "code",
   "execution_count": 30,
   "metadata": {},
   "outputs": [
    {
     "name": "stdout",
     "output_type": "stream",
     "text": [
      "After a little bit of work we find that there are roughly 15,426 unique campsites in the NPS\n"
     ]
    }
   ],
   "source": [
    "tot_campsites = sum(supply_park_campground_count['campground_counts'])\n",
    "\n",
    "print(\"After a little bit of work we find that there are roughly {0:,} unique campsites in the NPS\".format(tot_campsites))"
   ]
  },
  {
   "cell_type": "code",
   "execution_count": 31,
   "metadata": {},
   "outputs": [
    {
     "data": {
      "text/html": [
       "<div>\n",
       "<style scoped>\n",
       "    .dataframe tbody tr th:only-of-type {\n",
       "        vertical-align: middle;\n",
       "    }\n",
       "\n",
       "    .dataframe tbody tr th {\n",
       "        vertical-align: top;\n",
       "    }\n",
       "\n",
       "    .dataframe thead th {\n",
       "        text-align: right;\n",
       "    }\n",
       "</style>\n",
       "<table border=\"1\" class=\"dataframe\">\n",
       "  <thead>\n",
       "    <tr style=\"text-align: right;\">\n",
       "      <th></th>\n",
       "      <th>parkCode</th>\n",
       "      <th>id</th>\n",
       "      <th>name</th>\n",
       "      <th>fullName</th>\n",
       "      <th>longitude</th>\n",
       "      <th>latitude</th>\n",
       "      <th>designation</th>\n",
       "      <th>url</th>\n",
       "      <th>states</th>\n",
       "      <th>InWikiList</th>\n",
       "      <th>campgroundId</th>\n",
       "      <th>campgroundName</th>\n",
       "      <th>campsites</th>\n",
       "      <th>latLong</th>\n",
       "      <th>addresses</th>\n",
       "      <th>reservationUrl</th>\n",
       "      <th>accessibility</th>\n",
       "      <th>campground_counts</th>\n",
       "    </tr>\n",
       "  </thead>\n",
       "  <tbody>\n",
       "    <tr>\n",
       "      <td>0</td>\n",
       "      <td>brca</td>\n",
       "      <td>6B1D053D-714F-46D1-B410-04BE868F14C1</td>\n",
       "      <td>Bryce Canyon</td>\n",
       "      <td>Bryce Canyon National Park</td>\n",
       "      <td>-112.1826689</td>\n",
       "      <td>37.58399144</td>\n",
       "      <td>National Park</td>\n",
       "      <td>https://www.nps.gov/brca/index.htm</td>\n",
       "      <td>UT</td>\n",
       "      <td>True</td>\n",
       "      <td>2176</td>\n",
       "      <td>North Campground</td>\n",
       "      <td>{'other': '0', 'group': '0', 'horse': '0', 'to...</td>\n",
       "      <td>{lat:37.638096, lng:-112.167922}</td>\n",
       "      <td>[{'postalCode': '84764', 'city': 'Bryce', 'sta...</td>\n",
       "      <td></td>\n",
       "      <td>{'wheelchairaccess': 'Campsites are unpaved, n...</td>\n",
       "      <td>99.0</td>\n",
       "    </tr>\n",
       "    <tr>\n",
       "      <td>1</td>\n",
       "      <td>brca</td>\n",
       "      <td>6B1D053D-714F-46D1-B410-04BE868F14C1</td>\n",
       "      <td>Bryce Canyon</td>\n",
       "      <td>Bryce Canyon National Park</td>\n",
       "      <td>-112.1826689</td>\n",
       "      <td>37.58399144</td>\n",
       "      <td>National Park</td>\n",
       "      <td>https://www.nps.gov/brca/index.htm</td>\n",
       "      <td>UT</td>\n",
       "      <td>True</td>\n",
       "      <td>2378</td>\n",
       "      <td>Sunset Campground</td>\n",
       "      <td>{'other': '0', 'group': '1', 'horse': '0', 'to...</td>\n",
       "      <td>{lat:37.622878, lng:-112.172823}</td>\n",
       "      <td>[{'postalCode': '84764-0201', 'city': 'Bryce',...</td>\n",
       "      <td>https://www.recreation.gov/camping/campgrounds...</td>\n",
       "      <td>{'wheelchairaccess': 'Roads within Sunset Camp...</td>\n",
       "      <td>100.0</td>\n",
       "    </tr>\n",
       "    <tr>\n",
       "      <td>2</td>\n",
       "      <td>cuva</td>\n",
       "      <td>F4D44F29-3F67-498F-B05B-0783473D2708</td>\n",
       "      <td>Cuyahoga Valley</td>\n",
       "      <td>Cuyahoga Valley National Park</td>\n",
       "      <td>-81.57116722</td>\n",
       "      <td>41.26093905</td>\n",
       "      <td>National Park</td>\n",
       "      <td>https://www.nps.gov/cuva/index.htm</td>\n",
       "      <td>OH</td>\n",
       "      <td>True</td>\n",
       "      <td>NaN</td>\n",
       "      <td>NaN</td>\n",
       "      <td>NaN</td>\n",
       "      <td>NaN</td>\n",
       "      <td>NaN</td>\n",
       "      <td>NaN</td>\n",
       "      <td>NaN</td>\n",
       "      <td>NaN</td>\n",
       "    </tr>\n",
       "    <tr>\n",
       "      <td>3</td>\n",
       "      <td>drto</td>\n",
       "      <td>167A05D1-5793-49E0-89FE-0A1DDFA9A7F4</td>\n",
       "      <td>Dry Tortugas</td>\n",
       "      <td>Dry Tortugas National Park</td>\n",
       "      <td>-82.87319</td>\n",
       "      <td>24.628741</td>\n",
       "      <td>National Park</td>\n",
       "      <td>https://www.nps.gov/drto/index.htm</td>\n",
       "      <td>FL</td>\n",
       "      <td>True</td>\n",
       "      <td>2306</td>\n",
       "      <td>Garden Key Campground</td>\n",
       "      <td>{'other': '0', 'group': '1', 'horse': '0', 'to...</td>\n",
       "      <td>{lat:24.62705449909157, lng:-82.87293076515198}</td>\n",
       "      <td>[{'postalCode': '33034', 'city': 'Homestead', ...</td>\n",
       "      <td></td>\n",
       "      <td>{'wheelchairaccess': 'Campsites are accessible...</td>\n",
       "      <td>8.0</td>\n",
       "    </tr>\n",
       "    <tr>\n",
       "      <td>4</td>\n",
       "      <td>gaar</td>\n",
       "      <td>BC195D18-71C8-4A99-BF8E-10BFAB849679</td>\n",
       "      <td>Gates Of The Arctic</td>\n",
       "      <td>Gates Of The Arctic National Park &amp; Preserve</td>\n",
       "      <td>-153.2917758</td>\n",
       "      <td>67.75961636</td>\n",
       "      <td>National Park &amp; Preserve</td>\n",
       "      <td>https://www.nps.gov/gaar/index.htm</td>\n",
       "      <td>AK</td>\n",
       "      <td>True</td>\n",
       "      <td>NaN</td>\n",
       "      <td>NaN</td>\n",
       "      <td>NaN</td>\n",
       "      <td>NaN</td>\n",
       "      <td>NaN</td>\n",
       "      <td>NaN</td>\n",
       "      <td>NaN</td>\n",
       "      <td>NaN</td>\n",
       "    </tr>\n",
       "    <tr>\n",
       "      <td>...</td>\n",
       "      <td>...</td>\n",
       "      <td>...</td>\n",
       "      <td>...</td>\n",
       "      <td>...</td>\n",
       "      <td>...</td>\n",
       "      <td>...</td>\n",
       "      <td>...</td>\n",
       "      <td>...</td>\n",
       "      <td>...</td>\n",
       "      <td>...</td>\n",
       "      <td>...</td>\n",
       "      <td>...</td>\n",
       "      <td>...</td>\n",
       "      <td>...</td>\n",
       "      <td>...</td>\n",
       "      <td>...</td>\n",
       "      <td>...</td>\n",
       "      <td>...</td>\n",
       "    </tr>\n",
       "    <tr>\n",
       "      <td>254</td>\n",
       "      <td>jotr</td>\n",
       "      <td>F5CD58FB-05DC-4074-99DA-F327A537F1BC</td>\n",
       "      <td>Joshua Tree</td>\n",
       "      <td>Joshua Tree National Park</td>\n",
       "      <td>-115.8398125</td>\n",
       "      <td>33.91418525</td>\n",
       "      <td>National Park</td>\n",
       "      <td>https://www.nps.gov/jotr/index.htm</td>\n",
       "      <td>CA</td>\n",
       "      <td>True</td>\n",
       "      <td>2428</td>\n",
       "      <td>Ryan Campground</td>\n",
       "      <td>{'other': '0', 'group': '0', 'horse': '4', 'to...</td>\n",
       "      <td>{lat:33.9831402, lng:-116.1542323}</td>\n",
       "      <td>[{'postalCode': '92277', 'city': 'Twentynine P...</td>\n",
       "      <td>http://www.recreation.gov</td>\n",
       "      <td>{'wheelchairaccess': 'Ryan Campground has unpa...</td>\n",
       "      <td>31.0</td>\n",
       "    </tr>\n",
       "    <tr>\n",
       "      <td>255</td>\n",
       "      <td>kova</td>\n",
       "      <td>691831BF-F280-4E02-BF4A-FF476BC66B23</td>\n",
       "      <td>Kobuk Valley</td>\n",
       "      <td>Kobuk Valley National Park</td>\n",
       "      <td>-159.2002293</td>\n",
       "      <td>67.35631336</td>\n",
       "      <td>National Park</td>\n",
       "      <td>https://www.nps.gov/kova/index.htm</td>\n",
       "      <td>AK</td>\n",
       "      <td>True</td>\n",
       "      <td>NaN</td>\n",
       "      <td>NaN</td>\n",
       "      <td>NaN</td>\n",
       "      <td>NaN</td>\n",
       "      <td>NaN</td>\n",
       "      <td>NaN</td>\n",
       "      <td>NaN</td>\n",
       "      <td>NaN</td>\n",
       "    </tr>\n",
       "    <tr>\n",
       "      <td>256</td>\n",
       "      <td>zion</td>\n",
       "      <td>41BAB8ED-C95F-447D-9DA1-FCC4E4D808B2</td>\n",
       "      <td>Zion</td>\n",
       "      <td>Zion National Park</td>\n",
       "      <td>-113.0265138</td>\n",
       "      <td>37.29839254</td>\n",
       "      <td>National Park</td>\n",
       "      <td>https://www.nps.gov/zion/index.htm</td>\n",
       "      <td>UT</td>\n",
       "      <td>True</td>\n",
       "      <td>2379</td>\n",
       "      <td>Watchman Campground</td>\n",
       "      <td>{'other': '2', 'group': '6', 'horse': '0', 'to...</td>\n",
       "      <td>{lat:37.198597, lng:-112.988492}</td>\n",
       "      <td>None</td>\n",
       "      <td>http://www.recreation.gov</td>\n",
       "      <td>{'wheelchairaccess': 'Sites A-24 and A-25 are ...</td>\n",
       "      <td>176.0</td>\n",
       "    </tr>\n",
       "    <tr>\n",
       "      <td>257</td>\n",
       "      <td>zion</td>\n",
       "      <td>41BAB8ED-C95F-447D-9DA1-FCC4E4D808B2</td>\n",
       "      <td>Zion</td>\n",
       "      <td>Zion National Park</td>\n",
       "      <td>-113.0265138</td>\n",
       "      <td>37.29839254</td>\n",
       "      <td>National Park</td>\n",
       "      <td>https://www.nps.gov/zion/index.htm</td>\n",
       "      <td>UT</td>\n",
       "      <td>True</td>\n",
       "      <td>6635</td>\n",
       "      <td>Lava Point Campground</td>\n",
       "      <td>{'other': '0', 'group': '0', 'horse': '0', 'to...</td>\n",
       "      <td>{lat:37.383633, lng:-113.032799}</td>\n",
       "      <td>None</td>\n",
       "      <td></td>\n",
       "      <td>{'wheelchairaccess': '', 'internetinfo': '', '...</td>\n",
       "      <td>0.0</td>\n",
       "    </tr>\n",
       "    <tr>\n",
       "      <td>258</td>\n",
       "      <td>zion</td>\n",
       "      <td>41BAB8ED-C95F-447D-9DA1-FCC4E4D808B2</td>\n",
       "      <td>Zion</td>\n",
       "      <td>Zion National Park</td>\n",
       "      <td>-113.0265138</td>\n",
       "      <td>37.29839254</td>\n",
       "      <td>National Park</td>\n",
       "      <td>https://www.nps.gov/zion/index.htm</td>\n",
       "      <td>UT</td>\n",
       "      <td>True</td>\n",
       "      <td>6625</td>\n",
       "      <td>South Campground</td>\n",
       "      <td>{'other': '0', 'group': '0', 'horse': '0', 'to...</td>\n",
       "      <td>{lat:37.204972, lng:-112.982935}</td>\n",
       "      <td>None</td>\n",
       "      <td>https://www.recreation.gov</td>\n",
       "      <td>{'wheelchairaccess': '', 'internetinfo': '', '...</td>\n",
       "      <td>0.0</td>\n",
       "    </tr>\n",
       "  </tbody>\n",
       "</table>\n",
       "<p>259 rows × 18 columns</p>\n",
       "</div>"
      ],
      "text/plain": [
       "    parkCode                                    id                 name  \\\n",
       "0       brca  6B1D053D-714F-46D1-B410-04BE868F14C1         Bryce Canyon   \n",
       "1       brca  6B1D053D-714F-46D1-B410-04BE868F14C1         Bryce Canyon   \n",
       "2       cuva  F4D44F29-3F67-498F-B05B-0783473D2708      Cuyahoga Valley   \n",
       "3       drto  167A05D1-5793-49E0-89FE-0A1DDFA9A7F4         Dry Tortugas   \n",
       "4       gaar  BC195D18-71C8-4A99-BF8E-10BFAB849679  Gates Of The Arctic   \n",
       "..       ...                                   ...                  ...   \n",
       "254     jotr  F5CD58FB-05DC-4074-99DA-F327A537F1BC          Joshua Tree   \n",
       "255     kova  691831BF-F280-4E02-BF4A-FF476BC66B23         Kobuk Valley   \n",
       "256     zion  41BAB8ED-C95F-447D-9DA1-FCC4E4D808B2                 Zion   \n",
       "257     zion  41BAB8ED-C95F-447D-9DA1-FCC4E4D808B2                 Zion   \n",
       "258     zion  41BAB8ED-C95F-447D-9DA1-FCC4E4D808B2                 Zion   \n",
       "\n",
       "                                         fullName     longitude     latitude  \\\n",
       "0                      Bryce Canyon National Park  -112.1826689  37.58399144   \n",
       "1                      Bryce Canyon National Park  -112.1826689  37.58399144   \n",
       "2                   Cuyahoga Valley National Park  -81.57116722  41.26093905   \n",
       "3                      Dry Tortugas National Park     -82.87319    24.628741   \n",
       "4    Gates Of The Arctic National Park & Preserve  -153.2917758  67.75961636   \n",
       "..                                            ...           ...          ...   \n",
       "254                     Joshua Tree National Park  -115.8398125  33.91418525   \n",
       "255                    Kobuk Valley National Park  -159.2002293  67.35631336   \n",
       "256                            Zion National Park  -113.0265138  37.29839254   \n",
       "257                            Zion National Park  -113.0265138  37.29839254   \n",
       "258                            Zion National Park  -113.0265138  37.29839254   \n",
       "\n",
       "                  designation                                 url states  \\\n",
       "0               National Park  https://www.nps.gov/brca/index.htm     UT   \n",
       "1               National Park  https://www.nps.gov/brca/index.htm     UT   \n",
       "2               National Park  https://www.nps.gov/cuva/index.htm     OH   \n",
       "3               National Park  https://www.nps.gov/drto/index.htm     FL   \n",
       "4    National Park & Preserve  https://www.nps.gov/gaar/index.htm     AK   \n",
       "..                        ...                                 ...    ...   \n",
       "254             National Park  https://www.nps.gov/jotr/index.htm     CA   \n",
       "255             National Park  https://www.nps.gov/kova/index.htm     AK   \n",
       "256             National Park  https://www.nps.gov/zion/index.htm     UT   \n",
       "257             National Park  https://www.nps.gov/zion/index.htm     UT   \n",
       "258             National Park  https://www.nps.gov/zion/index.htm     UT   \n",
       "\n",
       "     InWikiList campgroundId         campgroundName  \\\n",
       "0          True         2176       North Campground   \n",
       "1          True         2378      Sunset Campground   \n",
       "2          True          NaN                    NaN   \n",
       "3          True         2306  Garden Key Campground   \n",
       "4          True          NaN                    NaN   \n",
       "..          ...          ...                    ...   \n",
       "254        True         2428        Ryan Campground   \n",
       "255        True          NaN                    NaN   \n",
       "256        True         2379    Watchman Campground   \n",
       "257        True         6635  Lava Point Campground   \n",
       "258        True         6625       South Campground   \n",
       "\n",
       "                                             campsites  \\\n",
       "0    {'other': '0', 'group': '0', 'horse': '0', 'to...   \n",
       "1    {'other': '0', 'group': '1', 'horse': '0', 'to...   \n",
       "2                                                  NaN   \n",
       "3    {'other': '0', 'group': '1', 'horse': '0', 'to...   \n",
       "4                                                  NaN   \n",
       "..                                                 ...   \n",
       "254  {'other': '0', 'group': '0', 'horse': '4', 'to...   \n",
       "255                                                NaN   \n",
       "256  {'other': '2', 'group': '6', 'horse': '0', 'to...   \n",
       "257  {'other': '0', 'group': '0', 'horse': '0', 'to...   \n",
       "258  {'other': '0', 'group': '0', 'horse': '0', 'to...   \n",
       "\n",
       "                                             latLong  \\\n",
       "0                   {lat:37.638096, lng:-112.167922}   \n",
       "1                   {lat:37.622878, lng:-112.172823}   \n",
       "2                                                NaN   \n",
       "3    {lat:24.62705449909157, lng:-82.87293076515198}   \n",
       "4                                                NaN   \n",
       "..                                               ...   \n",
       "254               {lat:33.9831402, lng:-116.1542323}   \n",
       "255                                              NaN   \n",
       "256                 {lat:37.198597, lng:-112.988492}   \n",
       "257                 {lat:37.383633, lng:-113.032799}   \n",
       "258                 {lat:37.204972, lng:-112.982935}   \n",
       "\n",
       "                                             addresses  \\\n",
       "0    [{'postalCode': '84764', 'city': 'Bryce', 'sta...   \n",
       "1    [{'postalCode': '84764-0201', 'city': 'Bryce',...   \n",
       "2                                                  NaN   \n",
       "3    [{'postalCode': '33034', 'city': 'Homestead', ...   \n",
       "4                                                  NaN   \n",
       "..                                                 ...   \n",
       "254  [{'postalCode': '92277', 'city': 'Twentynine P...   \n",
       "255                                                NaN   \n",
       "256                                               None   \n",
       "257                                               None   \n",
       "258                                               None   \n",
       "\n",
       "                                        reservationUrl  \\\n",
       "0                                                        \n",
       "1    https://www.recreation.gov/camping/campgrounds...   \n",
       "2                                                  NaN   \n",
       "3                                                        \n",
       "4                                                  NaN   \n",
       "..                                                 ...   \n",
       "254                          http://www.recreation.gov   \n",
       "255                                                NaN   \n",
       "256                          http://www.recreation.gov   \n",
       "257                                                      \n",
       "258                         https://www.recreation.gov   \n",
       "\n",
       "                                         accessibility  campground_counts  \n",
       "0    {'wheelchairaccess': 'Campsites are unpaved, n...               99.0  \n",
       "1    {'wheelchairaccess': 'Roads within Sunset Camp...              100.0  \n",
       "2                                                  NaN                NaN  \n",
       "3    {'wheelchairaccess': 'Campsites are accessible...                8.0  \n",
       "4                                                  NaN                NaN  \n",
       "..                                                 ...                ...  \n",
       "254  {'wheelchairaccess': 'Ryan Campground has unpa...               31.0  \n",
       "255                                                NaN                NaN  \n",
       "256  {'wheelchairaccess': 'Sites A-24 and A-25 are ...              176.0  \n",
       "257  {'wheelchairaccess': '', 'internetinfo': '', '...                0.0  \n",
       "258  {'wheelchairaccess': '', 'internetinfo': '', '...                0.0  \n",
       "\n",
       "[259 rows x 18 columns]"
      ]
     },
     "execution_count": 31,
     "metadata": {},
     "output_type": "execute_result"
    }
   ],
   "source": [
    "supply"
   ]
  },
  {
   "cell_type": "code",
   "execution_count": null,
   "metadata": {},
   "outputs": [],
   "source": []
  }
 ],
 "metadata": {
  "kernelspec": {
   "display_name": "Python 3",
   "language": "python",
   "name": "python3"
  },
  "language_info": {
   "codemirror_mode": {
    "name": "ipython",
    "version": 3
   },
   "file_extension": ".py",
   "mimetype": "text/x-python",
   "name": "python",
   "nbconvert_exporter": "python",
   "pygments_lexer": "ipython3",
   "version": "3.7.4"
  }
 },
 "nbformat": 4,
 "nbformat_minor": 2
}
