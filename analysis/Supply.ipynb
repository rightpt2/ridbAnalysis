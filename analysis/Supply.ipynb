{
 "cells": [
  {
   "cell_type": "code",
   "execution_count": 1,
   "metadata": {},
   "outputs": [],
   "source": [
    "import pandas as pd\n",
    "import numpy as np\n",
    "from glob import glob\n",
    "import json\n",
    "import time"
   ]
  },
  {
   "cell_type": "code",
   "execution_count": 2,
   "metadata": {},
   "outputs": [
    {
     "name": "stdout",
     "output_type": "stream",
     "text": [
      "We find 66 rec areas, even though we know there are 62\n"
     ]
    },
    {
     "data": {
      "text/html": [
       "<div>\n",
       "<style scoped>\n",
       "    .dataframe tbody tr th:only-of-type {\n",
       "        vertical-align: middle;\n",
       "    }\n",
       "\n",
       "    .dataframe tbody tr th {\n",
       "        vertical-align: top;\n",
       "    }\n",
       "\n",
       "    .dataframe thead th {\n",
       "        text-align: right;\n",
       "    }\n",
       "</style>\n",
       "<table border=\"1\" class=\"dataframe\">\n",
       "  <thead>\n",
       "    <tr style=\"text-align: right;\">\n",
       "      <th></th>\n",
       "      <th>RecAreaID</th>\n",
       "      <th>OrgRecAreaID</th>\n",
       "      <th>ParentOrgID</th>\n",
       "      <th>RecAreaName</th>\n",
       "      <th>RecAreaDescription</th>\n",
       "      <th>RecAreaUseFeeDescription</th>\n",
       "      <th>RecAreaDirections</th>\n",
       "      <th>RecAreaPhone</th>\n",
       "      <th>RecAreaEmail</th>\n",
       "      <th>RecAreaReservationURL</th>\n",
       "      <th>RecAreaMapURL</th>\n",
       "      <th>RecAreaLongitude</th>\n",
       "      <th>RecAreaLatitude</th>\n",
       "      <th>StayLimit</th>\n",
       "      <th>Keywords</th>\n",
       "      <th>Reservable</th>\n",
       "      <th>Enabled</th>\n",
       "      <th>LastUpdatedDate</th>\n",
       "    </tr>\n",
       "  </thead>\n",
       "  <tbody>\n",
       "    <tr>\n",
       "      <td>629</td>\n",
       "      <td>13525</td>\n",
       "      <td>GRTE</td>\n",
       "      <td>128</td>\n",
       "      <td>Grand Teton National Park</td>\n",
       "      <td>Rising above a scene rich with extraordinary w...</td>\n",
       "      <td>NaN</td>\n",
       "      <td>Grand Teton National Park is located in northw...</td>\n",
       "      <td>(307) 739-3399</td>\n",
       "      <td>grte_info@nps.gov</td>\n",
       "      <td>NaN</td>\n",
       "      <td>NaN</td>\n",
       "      <td>-110.705467</td>\n",
       "      <td>43.818536</td>\n",
       "      <td>NaN</td>\n",
       "      <td>Arts and Culture,Auto and ATV,Biking,Boating,C...</td>\n",
       "      <td>False</td>\n",
       "      <td>True</td>\n",
       "      <td>2020-03-19</td>\n",
       "    </tr>\n",
       "    <tr>\n",
       "      <td>1078</td>\n",
       "      <td>13951</td>\n",
       "      <td>JEFF</td>\n",
       "      <td>128</td>\n",
       "      <td>Gateway Arch National Park</td>\n",
       "      <td>The Gateway Arch reflects St. Louis' role in t...</td>\n",
       "      <td>NaN</td>\n",
       "      <td>For directions click on the provided link</td>\n",
       "      <td>(314) 655-1600</td>\n",
       "      <td>jeff_superintendent@nps.gov</td>\n",
       "      <td>NaN</td>\n",
       "      <td>NaN</td>\n",
       "      <td>-90.189251</td>\n",
       "      <td>38.625807</td>\n",
       "      <td>NaN</td>\n",
       "      <td>Gateway Arch National Park</td>\n",
       "      <td>False</td>\n",
       "      <td>True</td>\n",
       "      <td>2020-03-19</td>\n",
       "    </tr>\n",
       "    <tr>\n",
       "      <td>1117</td>\n",
       "      <td>140042</td>\n",
       "      <td>NaN</td>\n",
       "      <td>128</td>\n",
       "      <td>Channel Islands National Park</td>\n",
       "      <td>Channel Islands National Park</td>\n",
       "      <td>NaN</td>\n",
       "      <td>NaN</td>\n",
       "      <td>NaN</td>\n",
       "      <td>NaN</td>\n",
       "      <td>NaN</td>\n",
       "      <td>NaN</td>\n",
       "      <td>0.000000</td>\n",
       "      <td>0.000000</td>\n",
       "      <td>NaN</td>\n",
       "      <td>NaN</td>\n",
       "      <td>True</td>\n",
       "      <td>True</td>\n",
       "      <td>2020-03-19</td>\n",
       "    </tr>\n",
       "    <tr>\n",
       "      <td>2765</td>\n",
       "      <td>2554</td>\n",
       "      <td>ACAD</td>\n",
       "      <td>128</td>\n",
       "      <td>Acadia National Park</td>\n",
       "      <td>Acadia National Park protects the natural beau...</td>\n",
       "      <td>NaN</td>\n",
       "      <td>From Boston take I-95 north to Augusta, Maine,...</td>\n",
       "      <td>(207) 288-3338</td>\n",
       "      <td>acadia_information@nps.gov</td>\n",
       "      <td>NaN</td>\n",
       "      <td>NaN</td>\n",
       "      <td>-68.300633</td>\n",
       "      <td>44.307775</td>\n",
       "      <td>NaN</td>\n",
       "      <td>Arts and Culture,Biking,Boating,Camping,Climbi...</td>\n",
       "      <td>False</td>\n",
       "      <td>True</td>\n",
       "      <td>2020-03-19</td>\n",
       "    </tr>\n",
       "    <tr>\n",
       "      <td>2785</td>\n",
       "      <td>2573</td>\n",
       "      <td>ARCH</td>\n",
       "      <td>128</td>\n",
       "      <td>Arches National Park</td>\n",
       "      <td>Visit Arches to discover a landscape of contra...</td>\n",
       "      <td>NaN</td>\n",
       "      <td>Arches National Park is located in southeast U...</td>\n",
       "      <td>(435) 719-2299</td>\n",
       "      <td>archinfo@nps.gov</td>\n",
       "      <td>NaN</td>\n",
       "      <td>NaN</td>\n",
       "      <td>-109.586367</td>\n",
       "      <td>38.722618</td>\n",
       "      <td>NaN</td>\n",
       "      <td>Arts and Culture,Auto and ATV,Biking,Camping,C...</td>\n",
       "      <td>False</td>\n",
       "      <td>True</td>\n",
       "      <td>2020-03-19</td>\n",
       "    </tr>\n",
       "  </tbody>\n",
       "</table>\n",
       "</div>"
      ],
      "text/plain": [
       "     RecAreaID OrgRecAreaID  ParentOrgID                    RecAreaName  \\\n",
       "629      13525         GRTE          128      Grand Teton National Park   \n",
       "1078     13951         JEFF          128     Gateway Arch National Park   \n",
       "1117    140042          NaN          128  Channel Islands National Park   \n",
       "2765      2554         ACAD          128           Acadia National Park   \n",
       "2785      2573         ARCH          128           Arches National Park   \n",
       "\n",
       "                                     RecAreaDescription  \\\n",
       "629   Rising above a scene rich with extraordinary w...   \n",
       "1078  The Gateway Arch reflects St. Louis' role in t...   \n",
       "1117                      Channel Islands National Park   \n",
       "2765  Acadia National Park protects the natural beau...   \n",
       "2785  Visit Arches to discover a landscape of contra...   \n",
       "\n",
       "     RecAreaUseFeeDescription  \\\n",
       "629                       NaN   \n",
       "1078                      NaN   \n",
       "1117                      NaN   \n",
       "2765                      NaN   \n",
       "2785                      NaN   \n",
       "\n",
       "                                      RecAreaDirections    RecAreaPhone  \\\n",
       "629   Grand Teton National Park is located in northw...  (307) 739-3399   \n",
       "1078          For directions click on the provided link  (314) 655-1600   \n",
       "1117                                                NaN             NaN   \n",
       "2765  From Boston take I-95 north to Augusta, Maine,...  (207) 288-3338   \n",
       "2785  Arches National Park is located in southeast U...  (435) 719-2299   \n",
       "\n",
       "                     RecAreaEmail RecAreaReservationURL RecAreaMapURL  \\\n",
       "629             grte_info@nps.gov                   NaN           NaN   \n",
       "1078  jeff_superintendent@nps.gov                   NaN           NaN   \n",
       "1117                          NaN                   NaN           NaN   \n",
       "2765   acadia_information@nps.gov                   NaN           NaN   \n",
       "2785             archinfo@nps.gov                   NaN           NaN   \n",
       "\n",
       "      RecAreaLongitude  RecAreaLatitude StayLimit  \\\n",
       "629        -110.705467        43.818536       NaN   \n",
       "1078        -90.189251        38.625807       NaN   \n",
       "1117          0.000000         0.000000       NaN   \n",
       "2765        -68.300633        44.307775       NaN   \n",
       "2785       -109.586367        38.722618       NaN   \n",
       "\n",
       "                                               Keywords  Reservable  Enabled  \\\n",
       "629   Arts and Culture,Auto and ATV,Biking,Boating,C...       False     True   \n",
       "1078                         Gateway Arch National Park       False     True   \n",
       "1117                                                NaN        True     True   \n",
       "2765  Arts and Culture,Biking,Boating,Camping,Climbi...       False     True   \n",
       "2785  Arts and Culture,Auto and ATV,Biking,Camping,C...       False     True   \n",
       "\n",
       "     LastUpdatedDate  \n",
       "629       2020-03-19  \n",
       "1078      2020-03-19  \n",
       "1117      2020-03-19  \n",
       "2765      2020-03-19  \n",
       "2785      2020-03-19  "
      ]
     },
     "execution_count": 2,
     "metadata": {},
     "output_type": "execute_result"
    }
   ],
   "source": [
    "# first lets find all of our rec areas\n",
    "df_rec_all = pd.read_csv('../Data/RIDB_attributes/RecAreas_API_v1.csv')\n",
    "\n",
    "\n",
    "# then filter these for just national parks\n",
    "count_np = sum(df_rec_all['RecAreaName'].str.contains('National Park').fillna(False))\n",
    "print(f\"We find {count_np} rec areas, even though we know there are 62\")\n",
    "\n",
    "# lets look some more at these data frames\n",
    "df_rec_np = df_rec_all[df_rec_all['RecAreaName'].str.contains('National Park').fillna(False)]\n",
    "\n",
    "\n",
    "# what is in this data frame\n",
    "df_rec_np.head()\n"
   ]
  },
  {
   "cell_type": "code",
   "execution_count": 3,
   "metadata": {},
   "outputs": [
    {
     "name": "stdout",
     "output_type": "stream",
     "text": [
      "   RecAreaID  FacilityID\n",
      "0      16669    10000305\n",
      "1       2782    10001053\n",
      "2       2782    10001055\n",
      "3        287    10001419\n",
      "4        286    10001432 \n",
      "\n",
      "RecAreaID     int64\n",
      "FacilityID    int64\n",
      "dtype: object\n"
     ]
    }
   ],
   "source": [
    "# now lets connect the rec areas to facilites\n",
    "df_fac_rec = pd.read_csv( '../Data/RIDB_attributes/RecAreaFacilities_API_v1.csv')\n",
    "\n",
    "print(df_fac_rec.head(), \"\\n\")\n",
    "\n",
    "print(df_fac_rec[['RecAreaID', \"FacilityID\"]].dtypes)\n",
    "\n",
    "# Ok in the other data frame these are strings. Lets convert so we can merge the data together\n",
    "df_fac_rec['RecAreaID'] = df_fac_rec['RecAreaID'].astype(str)\n",
    "df_fac_rec['FacilityID'] = df_fac_rec['FacilityID'].astype(str)\n",
    "\n",
    "# And now we merge\n",
    "rec_facilities = pd.merge(left=df_rec_np, right=df_fac_rec, how='left', on=['RecAreaID'])"
   ]
  },
  {
   "cell_type": "code",
   "execution_count": 4,
   "metadata": {},
   "outputs": [
    {
     "name": "stdout",
     "output_type": "stream",
     "text": [
      "FacilityID       int64\n",
      "CampsiteName    object\n",
      "TypeOfUse       object\n",
      "dtype: object\n"
     ]
    }
   ],
   "source": [
    "# and now we will add campsites\n",
    "df_camp = pd.read_csv(\"../Data/RIDB_attributes/Campsites_API_v1.csv\")\n",
    "\n",
    "print(df_camp[['FacilityID','CampsiteName', 'TypeOfUse']].dtypes)\n",
    "\n",
    "# looks like we need to conver these to a string for merging\n",
    "df_camp['FacilityID'] = df_camp['FacilityID'].astype(str)"
   ]
  },
  {
   "cell_type": "code",
   "execution_count": 5,
   "metadata": {},
   "outputs": [
    {
     "data": {
      "text/plain": [
       "array(['RecAreaID', 'OrgRecAreaID', 'ParentOrgID', 'RecAreaName',\n",
       "       'RecAreaDescription', 'RecAreaUseFeeDescription',\n",
       "       'RecAreaDirections', 'RecAreaPhone', 'RecAreaEmail',\n",
       "       'RecAreaReservationURL', 'RecAreaMapURL', 'RecAreaLongitude',\n",
       "       'RecAreaLatitude', 'StayLimit', 'Keywords', 'Reservable',\n",
       "       'Enabled', 'LastUpdatedDate_x', 'FacilityID', 'CampsiteID',\n",
       "       'CampsiteName', 'CampsiteType', 'TypeOfUse', 'Loop',\n",
       "       'CampsiteAccessible', 'CampsiteLongitude', 'CampsiteLatitude',\n",
       "       'CreatedDate', 'LastUpdatedDate_y'], dtype=object)"
      ]
     },
     "execution_count": 5,
     "metadata": {},
     "output_type": "execute_result"
    }
   ],
   "source": [
    "# now we merge the data frames together to get the set we will do analysis on\n",
    "np_supply = pd.merge(left=rec_facilities, right=df_camp, how='left', on='FacilityID')\n",
    "np_supply.columns.values"
   ]
  },
  {
   "cell_type": "code",
   "execution_count": 6,
   "metadata": {},
   "outputs": [],
   "source": [
    "# ok lets count how many National Parks we have campsites for\n",
    "np_count_sites = np_supply.groupby(by=['RecAreaName', \"RecAreaID\", \"OrgRecAreaID\"]).agg({'CampsiteID':'count'}).sort_values(by=['CampsiteID'], ascending=False)\n",
    "np_count_sites.rename(columns={'CampsiteID':'count_campsites'}, inplace=True)\n",
    "np_count_sites.to_csv(\"temp.csv\")"
   ]
  },
  {
   "cell_type": "code",
   "execution_count": 7,
   "metadata": {},
   "outputs": [],
   "source": [
    "# exploring data"
   ]
  },
  {
   "cell_type": "code",
   "execution_count": 8,
   "metadata": {},
   "outputs": [],
   "source": [
    "import requests\n",
    "import os\n",
    "import json"
   ]
  },
  {
   "cell_type": "code",
   "execution_count": 9,
   "metadata": {},
   "outputs": [],
   "source": [
    "scope = [\"parkCode\", 'id', \"name\", 'fullName', 'longitude','latitude', 'designation',\"url\"]\n",
    "\n",
    "def parse_dict(tgt_dict, scope: list):\n",
    "    \n",
    "    \"\"\"This is a quick group of formatting functions to take in a specific dictionary and give back a data frame\"\"\"\n",
    "    \n",
    "    count_parks = len(tgt_dict['data'])\n",
    "    \n",
    "    parks_loop = []\n",
    "    \n",
    "    for i in range(count_parks):\n",
    "\n",
    "        # for each campsite we will add what we care about to a list\n",
    "        specific_park = []\n",
    "        \n",
    "        for item in scope:\n",
    "            specific_park.append(tgt_dict['data'][i][item])\n",
    "        \n",
    "        parks_loop.append(specific_park)\n",
    "\n",
    "        \n",
    "    return pd.DataFrame(parks_loop, columns=scope)"
   ]
  },
  {
   "cell_type": "code",
   "execution_count": 10,
   "metadata": {},
   "outputs": [],
   "source": [
    "def request_loop(size=10):\n",
    "    \n",
    "    endpoint = \"https://developer.nps.gov/api/v1/parks\"\n",
    "    key = os.getenv(\"NPSKEY\")\n",
    "\n",
    "    df_lst_parks = []\n",
    "    \n",
    "    for i in range(size):\n",
    "        \n",
    "        print(\"Getting {0} loop of {1}\".format(i+1, size))\n",
    "        \n",
    "        parameters = {\"limit\":50, \"start\":(i * 50), \"api_key\":key}\n",
    "        response = requests.get(endpoint,parameters)\n",
    "        response_data = json.loads(response.content)\n",
    "\n",
    "        df = parse_dict(response_data, scope)\n",
    "        \n",
    "        df_lst_parks.append(df)\n",
    "\n",
    "    return pd.concat(df_lst_parks)"
   ]
  },
  {
   "cell_type": "code",
   "execution_count": 20,
   "metadata": {},
   "outputs": [
    {
     "name": "stdout",
     "output_type": "stream",
     "text": [
      "Getting 1 loop of 10\n",
      "Getting 2 loop of 10\n",
      "Getting 3 loop of 10\n",
      "Getting 4 loop of 10\n",
      "Getting 5 loop of 10\n",
      "Getting 6 loop of 10\n",
      "Getting 7 loop of 10\n",
      "Getting 8 loop of 10\n",
      "Getting 9 loop of 10\n",
      "Getting 10 loop of 10\n"
     ]
    }
   ],
   "source": [
    "df_parks = request_loop(size=10)"
   ]
  },
  {
   "cell_type": "code",
   "execution_count": 21,
   "metadata": {},
   "outputs": [],
   "source": [
    "df_parks = df_parks.reset_index().drop('index', axis=1)"
   ]
  },
  {
   "cell_type": "code",
   "execution_count": 22,
   "metadata": {},
   "outputs": [],
   "source": [
    "def in_wiki_lst(txt):\n",
    "    i = 0\n",
    "\n",
    "    for park in wiki_names_lst:\n",
    "        if park.lower() in txt.lower():\n",
    "            i += 1\n",
    "    return i > 0 "
   ]
  },
  {
   "cell_type": "code",
   "execution_count": 23,
   "metadata": {},
   "outputs": [],
   "source": [
    "# lets see if we can use the wikipedia list of National Park Names to match them to recreaction area names\n",
    "nps_names = pd.read_csv(\"../Data/OtherSource/wikipedia_nps_names.csv\")\n",
    "wiki_names_lst = [x.lstrip('\\xa0').strip('\\xa0') for x in nps_names['NationalParks_clean'].values]\n"
   ]
  },
  {
   "cell_type": "code",
   "execution_count": 25,
   "metadata": {},
   "outputs": [],
   "source": [
    "df_parks['InWikiList'] = df_parks.fullName.apply(in_wiki_lst)"
   ]
  },
  {
   "cell_type": "code",
   "execution_count": null,
   "metadata": {},
   "outputs": [],
   "source": [
    "df_parks.to_csv(\"temp.csv\")"
   ]
  },
  {
   "cell_type": "code",
   "execution_count": 45,
   "metadata": {},
   "outputs": [],
   "source": [
    "df_parks_np = df_parks[df_parks.InWikiList]"
   ]
  },
  {
   "cell_type": "code",
   "execution_count": 48,
   "metadata": {},
   "outputs": [],
   "source": [
    "np_park_codes = df_parks_np['parkCode'].tolist()"
   ]
  },
  {
   "cell_type": "code",
   "execution_count": 55,
   "metadata": {},
   "outputs": [],
   "source": [
    "# lets see if we can find the campsites\n",
    "\n",
    "def campground_counts(endpoint, key, park_codes):\n",
    "    \n",
    "    camp_count = []\n",
    "    \n",
    "    for park in park_codes:\n",
    "    \n",
    "        parameters = {\"parkCode\":park,\"limit\":50, \"start\":0, \"api_key\":key}\n",
    "\n",
    "        response = requests.get(endpoint,parameters)\n",
    "        \n",
    "        ans = json.loads(response.content)\n",
    "        \n",
    "    return ans"
   ]
  },
  {
   "cell_type": "code",
   "execution_count": 90,
   "metadata": {},
   "outputs": [],
   "source": [
    "dct_ans = campground_counts(endpoint = \"https://developer.nps.gov/api/v1/campgrounds\", \n",
    "                      key = os.getenv(\"NPSKEY\"), park_codes= np_park_codes[60:62])"
   ]
  },
  {
   "cell_type": "code",
   "execution_count": 91,
   "metadata": {},
   "outputs": [
    {
     "data": {
      "text/plain": [
       "dict_keys(['contacts', 'reservationUrl', 'regulationsurl', 'numberOfSitesReservable', 'campsites', 'longitude', 'numberOfSitesFirstComeFirstServe', 'directionsUrl', 'regulationsOverview', 'operatingHours', 'description', 'images', 'parkCode', 'amenities', 'id', 'weatheroverview', 'audioDescription', 'reservationInfo', 'accessibility', 'directionsoverview', 'name', 'latLong', 'addresses', 'latitude'])"
      ]
     },
     "execution_count": 91,
     "metadata": {},
     "output_type": "execute_result"
    }
   ],
   "source": [
    "dct_ans['data'][0].keys()\n",
    "\n",
    "\n",
    "\n",
    "#scope = [\"parkCode\", 'id', \"name\", 'fullName', 'longitude','latitude', 'designation',\"url\"]"
   ]
  },
  {
   "cell_type": "code",
   "execution_count": 96,
   "metadata": {},
   "outputs": [
    {
     "data": {
      "text/plain": [
       "3"
      ]
     },
     "execution_count": 96,
     "metadata": {},
     "output_type": "execute_result"
    }
   ],
   "source": [
    "int(dct_ans['data'][0]['campsites']['totalsites'])"
   ]
  },
  {
   "cell_type": "code",
   "execution_count": 97,
   "metadata": {},
   "outputs": [
    {
     "data": {
      "text/plain": [
       "'36'"
      ]
     },
     "execution_count": 97,
     "metadata": {},
     "output_type": "execute_result"
    }
   ],
   "source": [
    "dct_ans['total']"
   ]
  },
  {
   "cell_type": "code",
   "execution_count": null,
   "metadata": {},
   "outputs": [],
   "source": []
  }
 ],
 "metadata": {
  "kernelspec": {
   "display_name": "Python 3",
   "language": "python",
   "name": "python3"
  },
  "language_info": {
   "codemirror_mode": {
    "name": "ipython",
    "version": 3
   },
   "file_extension": ".py",
   "mimetype": "text/x-python",
   "name": "python",
   "nbconvert_exporter": "python",
   "pygments_lexer": "ipython3",
   "version": "3.7.4"
  }
 },
 "nbformat": 4,
 "nbformat_minor": 2
}
